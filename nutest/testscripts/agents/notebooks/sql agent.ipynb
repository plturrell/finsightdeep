{
 "cells": [
  {
   "cell_type": "code",
   "execution_count": null,
   "metadata": {},
   "outputs": [],
   "source": [
    "from hana_ml import dataframe\n",
    "\n",
    "\n",
    "connection_context = dataframe.ConnectionContext(userkey=\"RaysKey\")"
   ]
  },
  {
   "cell_type": "code",
   "execution_count": 2,
   "metadata": {},
   "outputs": [],
   "source": [
    "from gen_ai_hub.proxy.core.proxy_clients import set_proxy_version\n",
    "from gen_ai_hub.proxy.langchain import init_llm\n",
    "#use btp proxy llm\n",
    "\n",
    "llm = init_llm('gpt-4', temperature=0.0, max_tokens=512)"
   ]
  },
  {
   "cell_type": "code",
   "execution_count": 3,
   "metadata": {},
   "outputs": [
    {
     "name": "stderr",
     "output_type": "stream",
     "text": [
      "100%|██████████| 1/1 [00:23<00:00, 23.36s/it]\n",
      "c:\\Users\\I308290\\AppData\\Local\\miniconda3\\Lib\\site-packages\\sqlalchemy_hana\\dialect.py:889: SAWarning: Did not recognize type 'REAL_VECTOR' of column 'vector_col'\n",
      "  util.warn(\n",
      "c:\\Users\\I308290\\AppData\\Local\\miniconda3\\Lib\\site-packages\\sqlalchemy_hana\\dialect.py:889: SAWarning: Did not recognize type 'REAL_VECTOR' of column 'embedding'\n",
      "  util.warn(\n",
      "c:\\Users\\I308290\\AppData\\Local\\miniconda3\\Lib\\site-packages\\sqlalchemy_hana\\dialect.py:889: SAWarning: Did not recognize type 'REAL_VECTOR' of column 'vector_col_text'\n",
      "  util.warn(\n",
      "c:\\Users\\I308290\\AppData\\Local\\miniconda3\\Lib\\site-packages\\sqlalchemy_hana\\dialect.py:889: SAWarning: Did not recognize type 'REAL_VECTOR' of column 'embeddings'\n",
      "  util.warn(\n",
      "c:\\Users\\I308290\\AppData\\Local\\miniconda3\\Lib\\site-packages\\sqlalchemy_hana\\dialect.py:889: SAWarning: Did not recognize type 'REAL_VECTOR' of column 'x'\n",
      "  util.warn(\n",
      "c:\\Users\\I308290\\AppData\\Local\\miniconda3\\Lib\\site-packages\\sqlalchemy_hana\\dialect.py:889: SAWarning: Did not recognize type 'REAL_VECTOR' of column 'Vector'\n",
      "  util.warn(\n",
      "c:\\Users\\I308290\\AppData\\Local\\miniconda3\\Lib\\site-packages\\sqlalchemy_hana\\dialect.py:889: SAWarning: Did not recognize type 'REAL_VECTOR' of column 'value'\n",
      "  util.warn(\n",
      "c:\\Users\\I308290\\AppData\\Local\\miniconda3\\Lib\\site-packages\\sqlalchemy_hana\\dialect.py:889: SAWarning: Did not recognize type 'REAL_VECTOR' of column 'vector'\n",
      "  util.warn(\n",
      "c:\\Users\\I308290\\AppData\\Local\\miniconda3\\Lib\\site-packages\\sqlalchemy_hana\\dialect.py:889: SAWarning: Did not recognize type 'REAL_VECTOR' of column 'emb'\n",
      "  util.warn(\n",
      "c:\\Users\\I308290\\AppData\\Local\\miniconda3\\Lib\\site-packages\\sqlalchemy_hana\\dialect.py:889: SAWarning: Did not recognize type 'REAL_VECTOR' of column 'score_vector'\n",
      "  util.warn(\n"
     ]
    }
   ],
   "source": [
    "\n",
    "from hana_ai.agents.hana_sql_agent import create_hana_sql_agent\n",
    "from hana_ai.tools.code_template_tools import GetCodeTemplateFromVectorDB\n",
    "from hana_ai.vectorstore.code_templates import get_code_templates\n",
    "from hana_ai.vectorstore.hana_vector_engine import HANAMLinVectorEngine\n",
    "\n",
    "hana_vec = HANAMLinVectorEngine(connection_context, \"hana_vec_hana_ml_sql_knowledge\")\n",
    "hana_vec.create_knowledge(option='sql')\n",
    "\n",
    "\n",
    "code_tool = GetCodeTemplateFromVectorDB()\n",
    "code_tool.set_vectordb(hana_vec)\n",
    "agent_executor = create_hana_sql_agent(llm, connection_context, tools=[code_tool],verbose=True)"
   ]
  },
  {
   "cell_type": "code",
   "execution_count": 4,
   "metadata": {},
   "outputs": [
    {
     "data": {
      "text/html": [
       "<div>\n",
       "<style scoped>\n",
       "    .dataframe tbody tr th:only-of-type {\n",
       "        vertical-align: middle;\n",
       "    }\n",
       "\n",
       "    .dataframe tbody tr th {\n",
       "        vertical-align: top;\n",
       "    }\n",
       "\n",
       "    .dataframe thead th {\n",
       "        text-align: right;\n",
       "    }\n",
       "</style>\n",
       "<table border=\"1\" class=\"dataframe\">\n",
       "  <thead>\n",
       "    <tr style=\"text-align: right;\">\n",
       "      <th></th>\n",
       "      <th>id</th>\n",
       "      <th>description</th>\n",
       "      <th>example</th>\n",
       "      <th>embeddings</th>\n",
       "    </tr>\n",
       "  </thead>\n",
       "  <tbody>\n",
       "    <tr>\n",
       "      <th>0</th>\n",
       "      <td>abc-analysis-d92aa78-checkpoint</td>\n",
       "      <td>ABC Analysis is an algorithm used to classify ...</td>\n",
       "      <td>\\n\\nSET SCHEMA DM_PAL;\\n\\nDROP TABLE PAL_ABC_D...</td>\n",
       "      <td>[-0.003856353461742401, 0.04601384326815605, 0...</td>\n",
       "    </tr>\n",
       "    <tr>\n",
       "      <th>1</th>\n",
       "      <td>abc-analysis-d92aa78</td>\n",
       "      <td>ABC Analysis is an algorithm used to classify ...</td>\n",
       "      <td>\\n\\nSET SCHEMA DM_PAL;\\n\\nDROP TABLE PAL_ABC_D...</td>\n",
       "      <td>[-0.003856353461742401, 0.04601384326815605, 0...</td>\n",
       "    </tr>\n",
       "    <tr>\n",
       "      <th>2</th>\n",
       "      <td>accelerated-k-means-5a3e282-checkpoint</td>\n",
       "      <td>Accelerated k-means is a variant of the k-mean...</td>\n",
       "      <td>\\n\\nSET SCHEMA DM_PAL;\\n\\nDROP TABLE PAL_ACCKM...</td>\n",
       "      <td>[-0.03080141358077526, -0.02564401924610138, 0...</td>\n",
       "    </tr>\n",
       "    <tr>\n",
       "      <th>3</th>\n",
       "      <td>accelerated-k-means-5a3e282</td>\n",
       "      <td>Accelerated k-means is a variant of the k-mean...</td>\n",
       "      <td>\\n\\nSET SCHEMA DM_PAL;\\n\\nDROP TABLE PAL_ACCKM...</td>\n",
       "      <td>[-0.031555213034152985, -0.024636246263980865,...</td>\n",
       "    </tr>\n",
       "    <tr>\n",
       "      <th>4</th>\n",
       "      <td>additive-model-time-series-analysis-7e78d06</td>\n",
       "      <td>Additive model time series analysis, also know...</td>\n",
       "      <td>\\n\\nSET SCHEMA DM_PAL;\\n\\nDROP TABLE PAL_MASSI...</td>\n",
       "      <td>[-0.015278245322406292, 0.0105646513402462, -0...</td>\n",
       "    </tr>\n",
       "  </tbody>\n",
       "</table>\n",
       "</div>"
      ],
      "text/plain": [
       "                                            id  \\\n",
       "0              abc-analysis-d92aa78-checkpoint   \n",
       "1                         abc-analysis-d92aa78   \n",
       "2       accelerated-k-means-5a3e282-checkpoint   \n",
       "3                  accelerated-k-means-5a3e282   \n",
       "4  additive-model-time-series-analysis-7e78d06   \n",
       "\n",
       "                                         description  \\\n",
       "0  ABC Analysis is an algorithm used to classify ...   \n",
       "1  ABC Analysis is an algorithm used to classify ...   \n",
       "2  Accelerated k-means is a variant of the k-mean...   \n",
       "3  Accelerated k-means is a variant of the k-mean...   \n",
       "4  Additive model time series analysis, also know...   \n",
       "\n",
       "                                             example  \\\n",
       "0  \\n\\nSET SCHEMA DM_PAL;\\n\\nDROP TABLE PAL_ABC_D...   \n",
       "1  \\n\\nSET SCHEMA DM_PAL;\\n\\nDROP TABLE PAL_ABC_D...   \n",
       "2  \\n\\nSET SCHEMA DM_PAL;\\n\\nDROP TABLE PAL_ACCKM...   \n",
       "3  \\n\\nSET SCHEMA DM_PAL;\\n\\nDROP TABLE PAL_ACCKM...   \n",
       "4  \\n\\nSET SCHEMA DM_PAL;\\n\\nDROP TABLE PAL_MASSI...   \n",
       "\n",
       "                                          embeddings  \n",
       "0  [-0.003856353461742401, 0.04601384326815605, 0...  \n",
       "1  [-0.003856353461742401, 0.04601384326815605, 0...  \n",
       "2  [-0.03080141358077526, -0.02564401924610138, 0...  \n",
       "3  [-0.031555213034152985, -0.024636246263980865,...  \n",
       "4  [-0.015278245322406292, 0.0105646513402462, -0...  "
      ]
     },
     "execution_count": 4,
     "metadata": {},
     "output_type": "execute_result"
    }
   ],
   "source": [
    "connection_context.table(\"hana_vec_hana_ml_sql_knowledge\").head(5).collect()"
   ]
  },
  {
   "cell_type": "code",
   "execution_count": 5,
   "metadata": {},
   "outputs": [
    {
     "name": "stdout",
     "output_type": "stream",
     "text": [
      "\n",
      "\n",
      "\u001b[1m> Entering new SQL Agent Executor chain...\u001b[0m\n",
      "\u001b[32;1m\u001b[1;3mI need to list all the tables in the database.\n",
      "Action: sql_db_list_tables\n",
      "Action Input: \"\"\u001b[0m\u001b[36;1m\u001b[1;3m11111111arima_model_88_predicted_results, CHUNKING_de_1000_0, CHUNKING_de_2000_0, CHUNKING_de_2000_0_5, CHUNKING_de_3000_0, CHUNKING_de_3000_0_5, CHUNKING_de_6000_0, CHUNKING_de_6000_0_5, CHUNKING_de_90000_0, CHUNKING_de_9000_0, CHUNKING_de_9000_0_5, CHUNKING_de_9000_20, CHUNKING_en_1000_0, CHUNKING_en_1000_20, CHUNKING_en_2000_0, CHUNKING_en_3000_0, CHUNKING_en_4000_20, CHUNKING_en_60000_0, CHUNKING_en_6000_0, CHUNKING_en_9000_0, CHUNKING_hi_90000_0, CHUNKING_ja_1000_0, CHUNKING_ja_1000_0_new, CHUNKING_ja_2000_0, CHUNKING_ja_2000_0_new, CHUNKING_ja_3000_0, CHUNKING_ja_3000_0_new, CHUNKING_ja_6000_0, CHUNKING_ja_6000_0_new, CHUNKING_ja_90000_0, CHUNKING_ja_9000_0, CHUNKING_ja_9000_0_new, CHUNKING_ru_6000_0, CHUNKING_th_6000_0, CHUNKING_zh_100000_0, CHUNKING_zh_1000_0, CHUNKING_zh_1000_0_new, CHUNKING_zh_2000_0, CHUNKING_zh_2000_0_new, CHUNKING_zh_3000_0, CHUNKING_zh_3000_0_new, CHUNKING_zh_60000_0, CHUNKING_zh_6000_0, CHUNKING_zh_6000_0_new, CHUNKING_zh_9000_0, CHUNKING_zh_9000_0_new, GARCH_TEST_MODEL_None_PREDICT_RESULT, HANAML_MY_AUTOML_MODEL_None_MODELS_0, HANAML_MY_AUTOML_MODEL_None_MODELS_1, Query_TBL, SHAMPOO_SALES_DATA_TBL_AutoExponentialSmoothing_FORECAST_RESULT, SHAMPOO_SALES_DATA_TBL_AutoExponentialSmoothing_STATS_RESULT, SHAMPOO_SALES_DATA_TBL_BrownExponentialSmoothing_FORECAST_RESULT, SHAMPOO_SALES_DATA_TBL_BrownExponentialSmoothing_STATS_RESULT, SHAMPOO_SALES_DATA_TBL_CrostonTSB_FORECAST_RESULT, SHAMPOO_SALES_DATA_TBL_CrostonTSB_STATS_RESULT, SHAMPOO_SALES_DATA_TBL_Croston_FORECAST_RESULT, SHAMPOO_SALES_DATA_TBL_Croston_STATS_RESULT, SHAMPOO_SALES_DATA_TBL_DoubleExponentialSmoothing_FORECAST_RESULT, SHAMPOO_SALES_DATA_TBL_DoubleExponentialSmoothing_STATS_RESULT, SHAMPOO_SALES_DATA_TBL_LRSeasonalAdjust_FORECAST_RESULT, SHAMPOO_SALES_DATA_TBL_LRSeasonalAdjust_STATS_RESULT, SHAMPOO_SALES_DATA_TBL_SingleExponentialSmoothing_FORECAST_RESULT, SHAMPOO_SALES_DATA_TBL_SingleExponentialSmoothing_STATS_RESULT, SHAMPOO_SALES_DATA_TBL_TripleExponentialSmoothing_FORECAST_RESULT, SHAMPOO_SALES_DATA_TBL_TripleExponentialSmoothing_STATS_RESULT, accuracy_measure_sim_data_tbl, amf_model_1_predicted_result, amf_test, amf_train, ar_DATA_TBL, autoarima_model_1_predicted_results, automl_model_1_predicted_results, automl_model_1_scored_results, bcpd_sim_data_tbl, bcpd_sim_data_tbl_bcpd_decomposed, boston_housing_prices, bsts_model_88_decomposed_and_reason_code, bsts_model_88_fit_decompose_tbl, changepoint_sim_data_tbl_bcpd_decomposed, chat_history, chunked_corpus, chunked_tbl, corpus, correlation_sim_data_tbl_correlation_result, data_uni_massive_class_tbl_notebook, de_DATA_TBL, de_DATA_TBL_1, demo_vector_table, dtw_query_sim_data_tbl, dtw_query_sim_data_tbl_dtw_ref_sim_data_tbl_dtw_alignment, dtw_query_sim_data_tbl_dtw_ref_sim_data_tbl_dtw_result, dtw_ref_sim_data_tbl, dtw_sim_query_data_tbl_dtw_sim_ref_data_tbl_dtw_alignment, dtw_sim_query_data_tbldtw_sim_ref_data_tbl_dtw_alignment, dummy_table, emb_tbl_text, embedding_parameter_tbl, en_DATA_TBL, en_DATA_TBL_100, en_DATA_TBL_1000, en_DATA_TBL_10000, es_DATA_TBL, example_data_dr_reg, facts, fr_DATA_TBL, fr_data_tbl_category, garch_test_model_1_predict_result, hana_ai_cap_artifacts_knowledge_base, hana_ai_database_knowledge_base, hana_ai_prediction_knowledge_base, hana_ai_result_analysis_knowledge_base, hana_ai_scoring_knowledge_base, hana_ai_sql_knowledge_base, hana_ai_training_knowledge_base, hana_ai_ts_model_suggest_knowledge_base, hana_ml_docs, hana_ml_docs_splitted, hana_ml_docs_vec, hana_vec_hana_ml_knowledge, hana_vec_hana_ml_sql_knowledge, hanaml_11111111arima_model_88_models, hanaml_amf_model_1_models_0, hanaml_amf_model_1_models_1, hanaml_autoarima_model_1_models, hanaml_automl_model_2_models_0, hanaml_automl_model_2_models_1, hanaml_garch_simdata_model_1_models, hanaml_garch_test_model_1_models, hanaml_hanai_model_1_models, hanaml_model_storage, hanaml_my_automl_model_1_models_0, hanaml_my_automl_model_1_models_1, hanaml_my_automl_model_2_models_0, hanaml_my_automl_model_2_models_1, hanaml_my_automl_model_3_models_0, hanaml_my_automl_model_3_models_1, hanaml_my_automl_model_4_models_0, hanaml_my_automl_model_4_models_1, hanaml_my_automl_model_5_models_0, hanaml_my_automl_model_5_models_1, hanaml_my_automl_model_6_models_0, hanaml_my_automl_model_6_models_1, hanaml_my_model_1_models_0, hanaml_my_model_1_models_1, hanaml_mymodel_1_models_0, hanaml_mymodel_1_models_1, hdbscan_data, hi_DATA_TBL, intermittent_ts, iris_data_full_tbl, it_DATA_TBL, ja_DATA_TBL, keywords_tbl, ko_DATA_TBL, mldk_de_bm25_data, mldk_query_bm25_data_1, mldk_query_data_1, mldk_query_data_2, mldk_query_fr_data_1, my_embeddings, my_model, my_model_1_PREDICTED_RESULTS, my_model_1_predicted_results, my_model_1_predicted_results_0, my_model_1_predicted_results_1, my_model_1_statistics, my_model_ts, news_query_data, pal_ann_data_test_tab, pal_ann_model_create_result_tbl, pal_ann_model_create_result_tbl1, pal_ann_model_delete_tbl, pal_ann_model_list_tbl, pal_ann_parameter_tbl, pal_ann_parameter_tbl1, pal_ann_pred_parameter_tbl, pal_ann_pred_parameter_tbl1, pal_ann_res, pal_ann_res1, pal_ann_res_g100_n20, pal_ann_res_new, pal_anns_sampling_tbl, pal_brownsmooth_data_tbl_brown_es_forecast_result, pal_cmatrix_tbl, pal_covid_data_tbl, pal_croston_data_tbl_croston_forecast_result, pal_croston_data_tbl_croston_tsb_forecast_result, pal_croston_data_tbl_lr_seasonal_adjust_forecast_result, pal_data_tbl, pal_doublesmooth_data_tbl_des_forecast_result, pal_dt_data, pal_dt_data_tbl, pal_dt_model_tbl, pal_embedding_demo, pal_forecasttriplesmoothing_data_tbl, pal_imp_tbl, pal_knn_res, pal_metrics_tbl, pal_model_rdt_tbl, pal_parameter_tab, pal_parameter_tbl, pal_partition_tbl, pal_pred_tab, pal_pred_tab1, pal_sample_embedding_vec_data_tab, pal_sample_embedding_vec_data_tab1, pal_singlesmooth_data_tbl_ses_forecast_result, pal_stat_tbl, pal_state_tbl, pal_text_emb_parameter_tbl, pal_text_emb_vec_result_tbl, pal_text_emb_vec_stat_tbl, pal_text_emb_vec_stat_tbl1, pal_tfidf_data_tab, pal_triplesmoothing_data_tbl_auto_es_forecast_result, pal_triplesmoothing_data_tbl_tes_forecast_result, pal_vec_data_tab_all, pima_indians_diabetes_tbl, pt_DATA_TBL, ru_DATA_TBL, sample_text_tab, sample_text_tab1, sap_1000_20, sap_100_20, sap_2000_20, sap_200_20, sap_3000_20, sap_300_20, sap_400_20, sap_500_20, sap_50_20, sap_600_20, sap_700_20, second_hana_vec_hana_ml_knowledge, shampoo_predict, shampoo_predict_result_tbl, shampoo_sales_data_tbl, shampoo_sales_data_tbl_id, shampoo_sales_predict_data_tbl, tab, text_splitter_data, text_tbl, th_DATA_TBL, titanic_full_tbl, vecpca_fit_scores_tbl_e1481784_9daa_11ef_9493_463500000031, vecpca_project_score_tbl_55ece27c_9dac_11ef_960c_463500000031, zh_DATA_TBL, zh_DATA_TBL_1\u001b[0m\u001b[32;1m\u001b[1;3mI now know the final answer\n",
      "Final Answer: The table names are: 11111111arima_model_88_predicted_results, CHUNKING_de_1000_0, CHUNKING_de_2000_0, CHUNKING_de_2000_0_5, CHUNKING_de_3000_0, CHUNKING_de_3000_0_5, CHUNKING_de_6000_0, CHUNKING_de_6000_0_5, CHUNKING_de_90000_0, CHUNKING_de_9000_0, CHUNKING_de_9000_0_5, CHUNKING_de_9000_20, CHUNKING_en_1000_0, CHUNKING_en_1000_20, CHUNKING_en_2000_0, CHUNKING_en_3000_0, CHUNKING_en_4000_20, CHUNKING_en_60000_0, CHUNKING_en_6000_0, CHUNKING_en_9000_0, CHUNKING_hi_90000_0, CHUNKING_ja_1000_0, CHUNKING_ja_1000_0_new, CHUNKING_ja_2000_0, CHUNKING_ja_2000_0_new, CHUNKING_ja_3000_0, CHUNKING_ja_3000_0_new, CHUNKING_ja_6000_0, CHUNKING_ja_6000_0_new, CHUNKING_ja_90000_0, CHUNKING_ja_9000_0, CHUNKING_ja_9000_0_new, CHUNKING_ru_6000_0, CHUNKING_th_6000_0, CHUNKING_zh_100000_0, CHUNKING_zh_1000_0, CHUNKING_zh_1000_0_new, CHUNKING_zh_2000_0, CHUNKING_zh_2000_0_new, CHUNKING_zh_3000_0, CHUNKING_zh_3000_0_new, CHUNKING_zh_60000_0, CHUNKING_zh_6000_0, CHUNKING_zh_6000_0_new, CHUNKING_zh_9000_0, CHUNKING_zh_9000_0_new, GARCH_TEST_MODEL_None_PREDICT_RESULT, HANAML_MY_AUTOML_MODEL_None_MODELS_0, HANAML_MY_AUTOML_MODEL_None_MODELS_1, Query_TBL\u001b[0m\n",
      "\n",
      "\u001b[1m> Finished chain.\u001b[0m\n"
     ]
    },
    {
     "data": {
      "text/plain": [
       "{'input': 'Show me all the table names',\n",
       " 'output': 'The table names are: 11111111arima_model_88_predicted_results, CHUNKING_de_1000_0, CHUNKING_de_2000_0, CHUNKING_de_2000_0_5, CHUNKING_de_3000_0, CHUNKING_de_3000_0_5, CHUNKING_de_6000_0, CHUNKING_de_6000_0_5, CHUNKING_de_90000_0, CHUNKING_de_9000_0, CHUNKING_de_9000_0_5, CHUNKING_de_9000_20, CHUNKING_en_1000_0, CHUNKING_en_1000_20, CHUNKING_en_2000_0, CHUNKING_en_3000_0, CHUNKING_en_4000_20, CHUNKING_en_60000_0, CHUNKING_en_6000_0, CHUNKING_en_9000_0, CHUNKING_hi_90000_0, CHUNKING_ja_1000_0, CHUNKING_ja_1000_0_new, CHUNKING_ja_2000_0, CHUNKING_ja_2000_0_new, CHUNKING_ja_3000_0, CHUNKING_ja_3000_0_new, CHUNKING_ja_6000_0, CHUNKING_ja_6000_0_new, CHUNKING_ja_90000_0, CHUNKING_ja_9000_0, CHUNKING_ja_9000_0_new, CHUNKING_ru_6000_0, CHUNKING_th_6000_0, CHUNKING_zh_100000_0, CHUNKING_zh_1000_0, CHUNKING_zh_1000_0_new, CHUNKING_zh_2000_0, CHUNKING_zh_2000_0_new, CHUNKING_zh_3000_0, CHUNKING_zh_3000_0_new, CHUNKING_zh_60000_0, CHUNKING_zh_6000_0, CHUNKING_zh_6000_0_new, CHUNKING_zh_9000_0, CHUNKING_zh_9000_0_new, GARCH_TEST_MODEL_None_PREDICT_RESULT, HANAML_MY_AUTOML_MODEL_None_MODELS_0, HANAML_MY_AUTOML_MODEL_None_MODELS_1, Query_TBL'}"
      ]
     },
     "execution_count": 5,
     "metadata": {},
     "output_type": "execute_result"
    }
   ],
   "source": [
    "agent_executor.invoke(\n",
    "    \"Show me all the table names\"\n",
    ")"
   ]
  },
  {
   "cell_type": "code",
   "execution_count": 6,
   "metadata": {},
   "outputs": [
    {
     "name": "stdout",
     "output_type": "stream",
     "text": [
      "\n",
      "\n",
      "\u001b[1m> Entering new SQL Agent Executor chain...\u001b[0m\n",
      "\u001b[32;1m\u001b[1;3mFirst, I need to check if there is a table related to iris in the database.\n",
      "Action: sql_db_list_tables\n",
      "Action Input: \"\"\u001b[0m\u001b[36;1m\u001b[1;3m11111111arima_model_88_predicted_results, CHUNKING_de_1000_0, CHUNKING_de_2000_0, CHUNKING_de_2000_0_5, CHUNKING_de_3000_0, CHUNKING_de_3000_0_5, CHUNKING_de_6000_0, CHUNKING_de_6000_0_5, CHUNKING_de_90000_0, CHUNKING_de_9000_0, CHUNKING_de_9000_0_5, CHUNKING_de_9000_20, CHUNKING_en_1000_0, CHUNKING_en_1000_20, CHUNKING_en_2000_0, CHUNKING_en_3000_0, CHUNKING_en_4000_20, CHUNKING_en_60000_0, CHUNKING_en_6000_0, CHUNKING_en_9000_0, CHUNKING_hi_90000_0, CHUNKING_ja_1000_0, CHUNKING_ja_1000_0_new, CHUNKING_ja_2000_0, CHUNKING_ja_2000_0_new, CHUNKING_ja_3000_0, CHUNKING_ja_3000_0_new, CHUNKING_ja_6000_0, CHUNKING_ja_6000_0_new, CHUNKING_ja_90000_0, CHUNKING_ja_9000_0, CHUNKING_ja_9000_0_new, CHUNKING_ru_6000_0, CHUNKING_th_6000_0, CHUNKING_zh_100000_0, CHUNKING_zh_1000_0, CHUNKING_zh_1000_0_new, CHUNKING_zh_2000_0, CHUNKING_zh_2000_0_new, CHUNKING_zh_3000_0, CHUNKING_zh_3000_0_new, CHUNKING_zh_60000_0, CHUNKING_zh_6000_0, CHUNKING_zh_6000_0_new, CHUNKING_zh_9000_0, CHUNKING_zh_9000_0_new, GARCH_TEST_MODEL_None_PREDICT_RESULT, HANAML_MY_AUTOML_MODEL_None_MODELS_0, HANAML_MY_AUTOML_MODEL_None_MODELS_1, Query_TBL, SHAMPOO_SALES_DATA_TBL_AutoExponentialSmoothing_FORECAST_RESULT, SHAMPOO_SALES_DATA_TBL_AutoExponentialSmoothing_STATS_RESULT, SHAMPOO_SALES_DATA_TBL_BrownExponentialSmoothing_FORECAST_RESULT, SHAMPOO_SALES_DATA_TBL_BrownExponentialSmoothing_STATS_RESULT, SHAMPOO_SALES_DATA_TBL_CrostonTSB_FORECAST_RESULT, SHAMPOO_SALES_DATA_TBL_CrostonTSB_STATS_RESULT, SHAMPOO_SALES_DATA_TBL_Croston_FORECAST_RESULT, SHAMPOO_SALES_DATA_TBL_Croston_STATS_RESULT, SHAMPOO_SALES_DATA_TBL_DoubleExponentialSmoothing_FORECAST_RESULT, SHAMPOO_SALES_DATA_TBL_DoubleExponentialSmoothing_STATS_RESULT, SHAMPOO_SALES_DATA_TBL_LRSeasonalAdjust_FORECAST_RESULT, SHAMPOO_SALES_DATA_TBL_LRSeasonalAdjust_STATS_RESULT, SHAMPOO_SALES_DATA_TBL_SingleExponentialSmoothing_FORECAST_RESULT, SHAMPOO_SALES_DATA_TBL_SingleExponentialSmoothing_STATS_RESULT, SHAMPOO_SALES_DATA_TBL_TripleExponentialSmoothing_FORECAST_RESULT, SHAMPOO_SALES_DATA_TBL_TripleExponentialSmoothing_STATS_RESULT, accuracy_measure_sim_data_tbl, amf_model_1_predicted_result, amf_test, amf_train, ar_DATA_TBL, autoarima_model_1_predicted_results, automl_model_1_predicted_results, automl_model_1_scored_results, bcpd_sim_data_tbl, bcpd_sim_data_tbl_bcpd_decomposed, boston_housing_prices, bsts_model_88_decomposed_and_reason_code, bsts_model_88_fit_decompose_tbl, changepoint_sim_data_tbl_bcpd_decomposed, chat_history, chunked_corpus, chunked_tbl, corpus, correlation_sim_data_tbl_correlation_result, data_uni_massive_class_tbl_notebook, de_DATA_TBL, de_DATA_TBL_1, demo_vector_table, dtw_query_sim_data_tbl, dtw_query_sim_data_tbl_dtw_ref_sim_data_tbl_dtw_alignment, dtw_query_sim_data_tbl_dtw_ref_sim_data_tbl_dtw_result, dtw_ref_sim_data_tbl, dtw_sim_query_data_tbl_dtw_sim_ref_data_tbl_dtw_alignment, dtw_sim_query_data_tbldtw_sim_ref_data_tbl_dtw_alignment, dummy_table, emb_tbl_text, embedding_parameter_tbl, en_DATA_TBL, en_DATA_TBL_100, en_DATA_TBL_1000, en_DATA_TBL_10000, es_DATA_TBL, example_data_dr_reg, facts, fr_DATA_TBL, fr_data_tbl_category, garch_test_model_1_predict_result, hana_ai_cap_artifacts_knowledge_base, hana_ai_database_knowledge_base, hana_ai_prediction_knowledge_base, hana_ai_result_analysis_knowledge_base, hana_ai_scoring_knowledge_base, hana_ai_sql_knowledge_base, hana_ai_training_knowledge_base, hana_ai_ts_model_suggest_knowledge_base, hana_ml_docs, hana_ml_docs_splitted, hana_ml_docs_vec, hana_vec_hana_ml_knowledge, hana_vec_hana_ml_sql_knowledge, hanaml_11111111arima_model_88_models, hanaml_amf_model_1_models_0, hanaml_amf_model_1_models_1, hanaml_autoarima_model_1_models, hanaml_automl_model_2_models_0, hanaml_automl_model_2_models_1, hanaml_garch_simdata_model_1_models, hanaml_garch_test_model_1_models, hanaml_hanai_model_1_models, hanaml_model_storage, hanaml_my_automl_model_1_models_0, hanaml_my_automl_model_1_models_1, hanaml_my_automl_model_2_models_0, hanaml_my_automl_model_2_models_1, hanaml_my_automl_model_3_models_0, hanaml_my_automl_model_3_models_1, hanaml_my_automl_model_4_models_0, hanaml_my_automl_model_4_models_1, hanaml_my_automl_model_5_models_0, hanaml_my_automl_model_5_models_1, hanaml_my_automl_model_6_models_0, hanaml_my_automl_model_6_models_1, hanaml_my_model_1_models_0, hanaml_my_model_1_models_1, hanaml_mymodel_1_models_0, hanaml_mymodel_1_models_1, hdbscan_data, hi_DATA_TBL, intermittent_ts, iris_data_full_tbl, it_DATA_TBL, ja_DATA_TBL, keywords_tbl, ko_DATA_TBL, mldk_de_bm25_data, mldk_query_bm25_data_1, mldk_query_data_1, mldk_query_data_2, mldk_query_fr_data_1, my_embeddings, my_model, my_model_1_PREDICTED_RESULTS, my_model_1_predicted_results, my_model_1_predicted_results_0, my_model_1_predicted_results_1, my_model_1_statistics, my_model_ts, news_query_data, pal_ann_data_test_tab, pal_ann_model_create_result_tbl, pal_ann_model_create_result_tbl1, pal_ann_model_delete_tbl, pal_ann_model_list_tbl, pal_ann_parameter_tbl, pal_ann_parameter_tbl1, pal_ann_pred_parameter_tbl, pal_ann_pred_parameter_tbl1, pal_ann_res, pal_ann_res1, pal_ann_res_g100_n20, pal_ann_res_new, pal_anns_sampling_tbl, pal_brownsmooth_data_tbl_brown_es_forecast_result, pal_cmatrix_tbl, pal_covid_data_tbl, pal_croston_data_tbl_croston_forecast_result, pal_croston_data_tbl_croston_tsb_forecast_result, pal_croston_data_tbl_lr_seasonal_adjust_forecast_result, pal_data_tbl, pal_doublesmooth_data_tbl_des_forecast_result, pal_dt_data, pal_dt_data_tbl, pal_dt_model_tbl, pal_embedding_demo, pal_forecasttriplesmoothing_data_tbl, pal_imp_tbl, pal_knn_res, pal_metrics_tbl, pal_model_rdt_tbl, pal_parameter_tab, pal_parameter_tbl, pal_partition_tbl, pal_pred_tab, pal_pred_tab1, pal_sample_embedding_vec_data_tab, pal_sample_embedding_vec_data_tab1, pal_singlesmooth_data_tbl_ses_forecast_result, pal_stat_tbl, pal_state_tbl, pal_text_emb_parameter_tbl, pal_text_emb_vec_result_tbl, pal_text_emb_vec_stat_tbl, pal_text_emb_vec_stat_tbl1, pal_tfidf_data_tab, pal_triplesmoothing_data_tbl_auto_es_forecast_result, pal_triplesmoothing_data_tbl_tes_forecast_result, pal_vec_data_tab_all, pima_indians_diabetes_tbl, pt_DATA_TBL, ru_DATA_TBL, sample_text_tab, sample_text_tab1, sap_1000_20, sap_100_20, sap_2000_20, sap_200_20, sap_3000_20, sap_300_20, sap_400_20, sap_500_20, sap_50_20, sap_600_20, sap_700_20, second_hana_vec_hana_ml_knowledge, shampoo_predict, shampoo_predict_result_tbl, shampoo_sales_data_tbl, shampoo_sales_data_tbl_id, shampoo_sales_predict_data_tbl, tab, text_splitter_data, text_tbl, th_DATA_TBL, titanic_full_tbl, vecpca_fit_scores_tbl_e1481784_9daa_11ef_9493_463500000031, vecpca_project_score_tbl_55ece27c_9dac_11ef_960c_463500000031, zh_DATA_TBL, zh_DATA_TBL_1\u001b[0m\u001b[32;1m\u001b[1;3mThere is a table named 'iris_data_full_tbl' which seems to be related to iris. Now, I need to check the schema of this table to get the column names.\n",
      "Action: sql_db_schema\n",
      "Action Input: \"iris_data_full_tbl\"\u001b[0m\u001b[38;5;200m\u001b[1;3m\n",
      "CREATE TABLE iris_data_full_tbl (\n",
      "\tid INTEGER, \n",
      "\tsepallengthcm DOUBLE, \n",
      "\tsepalwidthcm DOUBLE, \n",
      "\tpetallengthcm DOUBLE, \n",
      "\tpetalwidthcm DOUBLE, \n",
      "\tspecies NVARCHAR(5000)\n",
      ")\n",
      "\n",
      "/*\n",
      "3 rows from iris_data_full_tbl table:\n",
      "id\tsepallengthcm\tsepalwidthcm\tpetallengthcm\tpetalwidthcm\tspecies\n",
      "0\t5.1\t3.5\t1.4\t0.2\tIris-setosa\n",
      "1\t4.9\t3.0\t1.4\t0.2\tIris-setosa\n",
      "2\t4.7\t3.2\t1.3\t0.2\tIris-setosa\n",
      "*/\u001b[0m\u001b[32;1m\u001b[1;3mI now know the column names in the table related to iris.\n",
      "Final Answer: The column names in the table related to iris are: id, sepallengthcm, sepalwidthcm, petallengthcm, petalwidthcm, species.\u001b[0m\n",
      "\n",
      "\u001b[1m> Finished chain.\u001b[0m\n"
     ]
    },
    {
     "data": {
      "text/plain": [
       "{'input': 'show me the column names in the table related to iris',\n",
       " 'output': 'The column names in the table related to iris are: id, sepallengthcm, sepalwidthcm, petallengthcm, petalwidthcm, species.'}"
      ]
     },
     "execution_count": 6,
     "metadata": {},
     "output_type": "execute_result"
    }
   ],
   "source": [
    "agent_executor.invoke(\n",
    "    \"show me the column names in the table related to iris\"\n",
    ")"
   ]
  },
  {
   "cell_type": "code",
   "execution_count": 9,
   "metadata": {},
   "outputs": [
    {
     "name": "stdout",
     "output_type": "stream",
     "text": [
      "\n",
      "\n",
      "\u001b[1m> Entering new SQL Agent Executor chain...\u001b[0m\n",
      "\u001b[32;1m\u001b[1;3mI need to write a SQL query to get the min and max value of sepalwidthcm from the table iris_data_full_tbl. But first, I need to confirm that the table iris_data_full_tbl exists and sepalwidthcm is a valid column in that table.\n",
      "Action: sql_db_list_tables\n",
      "Action Input: \"\"\u001b[0m\u001b[36;1m\u001b[1;3m11111111arima_model_88_predicted_results, CHUNKING_de_1000_0, CHUNKING_de_2000_0, CHUNKING_de_2000_0_5, CHUNKING_de_3000_0, CHUNKING_de_3000_0_5, CHUNKING_de_6000_0, CHUNKING_de_6000_0_5, CHUNKING_de_90000_0, CHUNKING_de_9000_0, CHUNKING_de_9000_0_5, CHUNKING_de_9000_20, CHUNKING_en_1000_0, CHUNKING_en_1000_20, CHUNKING_en_2000_0, CHUNKING_en_3000_0, CHUNKING_en_4000_20, CHUNKING_en_60000_0, CHUNKING_en_6000_0, CHUNKING_en_9000_0, CHUNKING_hi_90000_0, CHUNKING_ja_1000_0, CHUNKING_ja_1000_0_new, CHUNKING_ja_2000_0, CHUNKING_ja_2000_0_new, CHUNKING_ja_3000_0, CHUNKING_ja_3000_0_new, CHUNKING_ja_6000_0, CHUNKING_ja_6000_0_new, CHUNKING_ja_90000_0, CHUNKING_ja_9000_0, CHUNKING_ja_9000_0_new, CHUNKING_ru_6000_0, CHUNKING_th_6000_0, CHUNKING_zh_100000_0, CHUNKING_zh_1000_0, CHUNKING_zh_1000_0_new, CHUNKING_zh_2000_0, CHUNKING_zh_2000_0_new, CHUNKING_zh_3000_0, CHUNKING_zh_3000_0_new, CHUNKING_zh_60000_0, CHUNKING_zh_6000_0, CHUNKING_zh_6000_0_new, CHUNKING_zh_9000_0, CHUNKING_zh_9000_0_new, GARCH_TEST_MODEL_None_PREDICT_RESULT, HANAML_MY_AUTOML_MODEL_None_MODELS_0, HANAML_MY_AUTOML_MODEL_None_MODELS_1, Query_TBL, SHAMPOO_SALES_DATA_TBL_AutoExponentialSmoothing_FORECAST_RESULT, SHAMPOO_SALES_DATA_TBL_AutoExponentialSmoothing_STATS_RESULT, SHAMPOO_SALES_DATA_TBL_BrownExponentialSmoothing_FORECAST_RESULT, SHAMPOO_SALES_DATA_TBL_BrownExponentialSmoothing_STATS_RESULT, SHAMPOO_SALES_DATA_TBL_CrostonTSB_FORECAST_RESULT, SHAMPOO_SALES_DATA_TBL_CrostonTSB_STATS_RESULT, SHAMPOO_SALES_DATA_TBL_Croston_FORECAST_RESULT, SHAMPOO_SALES_DATA_TBL_Croston_STATS_RESULT, SHAMPOO_SALES_DATA_TBL_DoubleExponentialSmoothing_FORECAST_RESULT, SHAMPOO_SALES_DATA_TBL_DoubleExponentialSmoothing_STATS_RESULT, SHAMPOO_SALES_DATA_TBL_LRSeasonalAdjust_FORECAST_RESULT, SHAMPOO_SALES_DATA_TBL_LRSeasonalAdjust_STATS_RESULT, SHAMPOO_SALES_DATA_TBL_SingleExponentialSmoothing_FORECAST_RESULT, SHAMPOO_SALES_DATA_TBL_SingleExponentialSmoothing_STATS_RESULT, SHAMPOO_SALES_DATA_TBL_TripleExponentialSmoothing_FORECAST_RESULT, SHAMPOO_SALES_DATA_TBL_TripleExponentialSmoothing_STATS_RESULT, accuracy_measure_sim_data_tbl, amf_model_1_predicted_result, amf_test, amf_train, ar_DATA_TBL, autoarima_model_1_predicted_results, automl_model_1_predicted_results, automl_model_1_scored_results, bcpd_sim_data_tbl, bcpd_sim_data_tbl_bcpd_decomposed, boston_housing_prices, bsts_model_88_decomposed_and_reason_code, bsts_model_88_fit_decompose_tbl, changepoint_sim_data_tbl_bcpd_decomposed, chat_history, chunked_corpus, chunked_tbl, corpus, correlation_sim_data_tbl_correlation_result, data_uni_massive_class_tbl_notebook, de_DATA_TBL, de_DATA_TBL_1, demo_vector_table, dtw_query_sim_data_tbl, dtw_query_sim_data_tbl_dtw_ref_sim_data_tbl_dtw_alignment, dtw_query_sim_data_tbl_dtw_ref_sim_data_tbl_dtw_result, dtw_ref_sim_data_tbl, dtw_sim_query_data_tbl_dtw_sim_ref_data_tbl_dtw_alignment, dtw_sim_query_data_tbldtw_sim_ref_data_tbl_dtw_alignment, dummy_table, emb_tbl_text, embedding_parameter_tbl, en_DATA_TBL, en_DATA_TBL_100, en_DATA_TBL_1000, en_DATA_TBL_10000, es_DATA_TBL, example_data_dr_reg, facts, fr_DATA_TBL, fr_data_tbl_category, garch_test_model_1_predict_result, hana_ai_cap_artifacts_knowledge_base, hana_ai_database_knowledge_base, hana_ai_prediction_knowledge_base, hana_ai_result_analysis_knowledge_base, hana_ai_scoring_knowledge_base, hana_ai_sql_knowledge_base, hana_ai_training_knowledge_base, hana_ai_ts_model_suggest_knowledge_base, hana_ml_docs, hana_ml_docs_splitted, hana_ml_docs_vec, hana_vec_hana_ml_knowledge, hana_vec_hana_ml_sql_knowledge, hanaml_11111111arima_model_88_models, hanaml_amf_model_1_models_0, hanaml_amf_model_1_models_1, hanaml_autoarima_model_1_models, hanaml_automl_model_2_models_0, hanaml_automl_model_2_models_1, hanaml_garch_simdata_model_1_models, hanaml_garch_test_model_1_models, hanaml_hanai_model_1_models, hanaml_model_storage, hanaml_my_automl_model_1_models_0, hanaml_my_automl_model_1_models_1, hanaml_my_automl_model_2_models_0, hanaml_my_automl_model_2_models_1, hanaml_my_automl_model_3_models_0, hanaml_my_automl_model_3_models_1, hanaml_my_automl_model_4_models_0, hanaml_my_automl_model_4_models_1, hanaml_my_automl_model_5_models_0, hanaml_my_automl_model_5_models_1, hanaml_my_automl_model_6_models_0, hanaml_my_automl_model_6_models_1, hanaml_my_model_1_models_0, hanaml_my_model_1_models_1, hanaml_mymodel_1_models_0, hanaml_mymodel_1_models_1, hdbscan_data, hi_DATA_TBL, intermittent_ts, iris_data_full_tbl, it_DATA_TBL, ja_DATA_TBL, keywords_tbl, ko_DATA_TBL, mldk_de_bm25_data, mldk_query_bm25_data_1, mldk_query_data_1, mldk_query_data_2, mldk_query_fr_data_1, my_embeddings, my_model, my_model_1_PREDICTED_RESULTS, my_model_1_predicted_results, my_model_1_predicted_results_0, my_model_1_predicted_results_1, my_model_1_statistics, my_model_ts, news_query_data, pal_ann_data_test_tab, pal_ann_model_create_result_tbl, pal_ann_model_create_result_tbl1, pal_ann_model_delete_tbl, pal_ann_model_list_tbl, pal_ann_parameter_tbl, pal_ann_parameter_tbl1, pal_ann_pred_parameter_tbl, pal_ann_pred_parameter_tbl1, pal_ann_res, pal_ann_res1, pal_ann_res_g100_n20, pal_ann_res_new, pal_anns_sampling_tbl, pal_brownsmooth_data_tbl_brown_es_forecast_result, pal_cmatrix_tbl, pal_covid_data_tbl, pal_croston_data_tbl_croston_forecast_result, pal_croston_data_tbl_croston_tsb_forecast_result, pal_croston_data_tbl_lr_seasonal_adjust_forecast_result, pal_data_tbl, pal_doublesmooth_data_tbl_des_forecast_result, pal_dt_data, pal_dt_data_tbl, pal_dt_model_tbl, pal_embedding_demo, pal_forecasttriplesmoothing_data_tbl, pal_imp_tbl, pal_knn_res, pal_metrics_tbl, pal_model_rdt_tbl, pal_parameter_tab, pal_parameter_tbl, pal_partition_tbl, pal_pred_tab, pal_pred_tab1, pal_sample_embedding_vec_data_tab, pal_sample_embedding_vec_data_tab1, pal_singlesmooth_data_tbl_ses_forecast_result, pal_stat_tbl, pal_state_tbl, pal_text_emb_parameter_tbl, pal_text_emb_vec_result_tbl, pal_text_emb_vec_stat_tbl, pal_text_emb_vec_stat_tbl1, pal_tfidf_data_tab, pal_triplesmoothing_data_tbl_auto_es_forecast_result, pal_triplesmoothing_data_tbl_tes_forecast_result, pal_vec_data_tab_all, pima_indians_diabetes_tbl, pt_DATA_TBL, ru_DATA_TBL, sample_text_tab, sample_text_tab1, sap_1000_20, sap_100_20, sap_2000_20, sap_200_20, sap_3000_20, sap_300_20, sap_400_20, sap_500_20, sap_50_20, sap_600_20, sap_700_20, second_hana_vec_hana_ml_knowledge, shampoo_predict, shampoo_predict_result_tbl, shampoo_sales_data_tbl, shampoo_sales_data_tbl_id, shampoo_sales_predict_data_tbl, tab, text_splitter_data, text_tbl, th_DATA_TBL, titanic_full_tbl, vecpca_fit_scores_tbl_e1481784_9daa_11ef_9493_463500000031, vecpca_project_score_tbl_55ece27c_9dac_11ef_960c_463500000031, zh_DATA_TBL, zh_DATA_TBL_1\u001b[0m\u001b[32;1m\u001b[1;3mThe table iris_data_full_tbl does exist in the database. Now I need to check the schema of the table to confirm if the column sepalwidthcm exists.\n",
      "Action: sql_db_schema\n",
      "Action Input: \"iris_data_full_tbl\"\u001b[0m\u001b[38;5;200m\u001b[1;3m\n",
      "CREATE TABLE iris_data_full_tbl (\n",
      "\tid INTEGER, \n",
      "\tsepallengthcm DOUBLE, \n",
      "\tsepalwidthcm DOUBLE, \n",
      "\tpetallengthcm DOUBLE, \n",
      "\tpetalwidthcm DOUBLE, \n",
      "\tspecies NVARCHAR(5000)\n",
      ")\n",
      "\n",
      "/*\n",
      "3 rows from iris_data_full_tbl table:\n",
      "id\tsepallengthcm\tsepalwidthcm\tpetallengthcm\tpetalwidthcm\tspecies\n",
      "0\t5.1\t3.5\t1.4\t0.2\tIris-setosa\n",
      "1\t4.9\t3.0\t1.4\t0.2\tIris-setosa\n",
      "2\t4.7\t3.2\t1.3\t0.2\tIris-setosa\n",
      "*/\u001b[0m\u001b[32;1m\u001b[1;3mThe column sepalwidthcm does exist in the table iris_data_full_tbl. Now I can write a SQL query to get the min and max value of sepalwidthcm.\n",
      "Action: sql_db_query_checker\n",
      "Action Input: \"SELECT MIN(sepalwidthcm), MAX(sepalwidthcm) FROM iris_data_full_tbl\"\u001b[0m\u001b[33;1m\u001b[1;3mSELECT MIN(sepalwidthcm), MAX(sepalwidthcm) FROM iris_data_full_tbl\u001b[0m\u001b[32;1m\u001b[1;3mThe SQL query is correct. Now I can execute it to get the min and max value of sepalwidthcm.\n",
      "Action: sql_db_query\n",
      "Action Input: \"SELECT MIN(sepalwidthcm), MAX(sepalwidthcm) FROM iris_data_full_tbl\"\u001b[0m\u001b[33;1m\u001b[1;3m[(2.0, 4.4)]\u001b[0m\u001b[32;1m\u001b[1;3mI now know the final answer\n",
      "Final Answer: The minimum value of sepalwidthcm in the table iris_data_full_tbl is 2.0 and the maximum value is 4.4.\u001b[0m\n",
      "\n",
      "\u001b[1m> Finished chain.\u001b[0m\n"
     ]
    },
    {
     "data": {
      "text/plain": [
       "{'input': 'show me the min and max value of sepalwidthcm in the table iris_data_full_tbl ',\n",
       " 'output': 'The minimum value of sepalwidthcm in the table iris_data_full_tbl is 2.0 and the maximum value is 4.4.'}"
      ]
     },
     "execution_count": 9,
     "metadata": {},
     "output_type": "execute_result"
    }
   ],
   "source": [
    "agent_executor.invoke(\n",
    "    \"show me the min and max value of sepalwidthcm in the table iris_data_full_tbl \"\n",
    ")"
   ]
  }
 ],
 "metadata": {
  "kernelspec": {
   "display_name": "base",
   "language": "python",
   "name": "python3"
  },
  "language_info": {
   "codemirror_mode": {
    "name": "ipython",
    "version": 3
   },
   "file_extension": ".py",
   "mimetype": "text/x-python",
   "name": "python",
   "nbconvert_exporter": "python",
   "pygments_lexer": "ipython3",
   "version": "3.11.6"
  }
 },
 "nbformat": 4,
 "nbformat_minor": 2
}

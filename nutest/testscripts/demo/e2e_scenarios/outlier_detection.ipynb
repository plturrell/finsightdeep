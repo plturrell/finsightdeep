{
 "cells": [
  {
   "cell_type": "code",
   "execution_count": null,
   "id": "12bc65b9-6410-4bd1-838b-f6ad19a0f8f6",
   "metadata": {},
   "outputs": [],
   "source": [
    "from gen_ai_hub.proxy.langchain import init_llm\n",
    "from hana_ai.agents.hanaml_agent_with_memory import HANAMLAgentWithMemory\n",
    "from hana_ml import dataframe\n",
    "from hana_ai.tools.toolkit import HANAMLToolkit\n",
    "\n",
    "cc = dataframe.ConnectionContext(userkey=\"RaysKey\")\n",
    "llm = init_llm('gpt-4-32k', temperature=0.0, max_tokens=600)\n",
    "tools = HANAMLToolkit(cc, used_tools='ts_outlier_detection').get_tools()\n",
    "chatbot = HANAMLAgentWithMemory(llm=llm, tools=tools, session_id='ts_outlier_test_hou', n_messages=10)"
   ]
  },
  {
   "cell_type": "code",
   "execution_count": 3,
   "id": "689e4a33-6f3c-4512-abf5-79bcb1887c2a",
   "metadata": {},
   "outputs": [
    {
     "name": "stderr",
     "output_type": "stream",
     "text": [
      "100%|██████████| 1/1 [00:00<00:00,  2.78it/s]\n"
     ]
    }
   ],
   "source": [
    "import numpy as np\n",
    "import pandas as pd\n",
    "np.random.seed(23)\n",
    "X = range(256)\n",
    "x = np.arange(256) / 64\n",
    "Y = x + 0.8 * np.sin(x * 2 * np.pi) + np.random.normal(scale=0.1, size=256)\n",
    "Y[74] = Y[74] + 0.6 #1st outlier added at index 74\n",
    "Y[126] = Y[126] - 0.8 #2nd outlier added at index 126\n",
    "data = pd.DataFrame(dict(ID=X, Y=Y))\n",
    "from hana_ml.dataframe import create_dataframe_from_pandas\n",
    "ts_outlier_df = create_dataframe_from_pandas(cc, data,\n",
    "                                             \"SIM_TSOUTLIER_DATA_TBL\",\n",
    "                                             force=True)"
   ]
  },
  {
   "cell_type": "code",
   "execution_count": null,
   "id": "15685c38-e7f1-4aa4-8eef-bc6b0c4559ca",
   "metadata": {},
   "outputs": [
    {
     "data": {
      "text/plain": [
       "\"To find the outliers in the 'SIM_TSOUTLIER_DATA_TBL' table, I need some additional information. Could you please provide the key and endog of the dataset?\""
      ]
     },
     "execution_count": 4,
     "metadata": {},
     "output_type": "execute_result"
    }
   ],
   "source": [
    "chatbot.run(\"Find the collection of outliers in SIM_TSOUTLIER_DATA_TBL\")"
   ]
  },
  {
   "cell_type": "code",
   "execution_count": null,
   "id": "4cfd1d36-f5aa-4e6f-b082-65c403ad23d5",
   "metadata": {},
   "outputs": [
    {
     "data": {
      "text/plain": [
       "'{\"outliers\": [74, 126], \"Auto Outlier Method\": \"seasonal decomposition and super smoother\", \"DETECT_INTERMITTENT_TS\": \"0\", \"INTERMITTENT_FLAG\": \"0\", \"REMOVE_LEADING_AND_TRAILING_ZEROS\": \"0\", \"TAKING_LOG_FLAG\": \"0\", \"Periods\": \"63\", \"ACFs\": \"0.734877\", \"OutlierNum\": \"2\", \"Mean\": \"-0.00382868\", \"Standard Deviation\": \"0.0949135\", \"HandleZero\": \"0\"}'"
      ]
     },
     "execution_count": 5,
     "metadata": {},
     "output_type": "execute_result"
    }
   ],
   "source": [
    "chatbot.run(\"Yes, the key is ID and endog is Y\")"
   ]
  }
 ],
 "metadata": {
  "kernelspec": {
   "display_name": "base",
   "language": "python",
   "name": "python3"
  },
  "language_info": {
   "codemirror_mode": {
    "name": "ipython",
    "version": 3
   },
   "file_extension": ".py",
   "mimetype": "text/x-python",
   "name": "python",
   "nbconvert_exporter": "python",
   "pygments_lexer": "ipython3",
   "version": "3.11.6"
  }
 },
 "nbformat": 4,
 "nbformat_minor": 5
}

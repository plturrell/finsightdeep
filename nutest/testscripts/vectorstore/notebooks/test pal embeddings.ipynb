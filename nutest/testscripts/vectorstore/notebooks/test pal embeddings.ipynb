{
 "cells": [
  {
   "cell_type": "code",
   "execution_count": null,
   "metadata": {},
   "outputs": [],
   "source": [
    "from gen_ai_hub.proxy.core.proxy_clients import set_proxy_version\n",
    "from hana_ml import dataframe\n",
    "\n",
    "#use btp proxy llm\n"
   ]
  },
  {
   "cell_type": "code",
   "execution_count": null,
   "metadata": {},
   "outputs": [],
   "source": [
    "\n",
    "connection_context = dataframe.ConnectionContext(userkey=\"RaysKey\")"
   ]
  },
  {
   "cell_type": "code",
   "execution_count": null,
   "metadata": {},
   "outputs": [],
   "source": [
    "import pandas as pd\n",
    "from hana_ai.vectorstore.code_templates import get_code_templates\n",
    "\n",
    "df = dataframe.create_dataframe_from_pandas(connection_context,\n",
    "                                            pd.DataFrame(get_code_templates('python')),\n",
    "                                            table_name='PAL_EMBEDDING_DEMO',\n",
    "                                            force=True)\n"
   ]
  },
  {
   "cell_type": "code",
   "execution_count": null,
   "metadata": {},
   "outputs": [],
   "source": [
    "df.head(5).collect()"
   ]
  },
  {
   "cell_type": "code",
   "execution_count": null,
   "metadata": {},
   "outputs": [],
   "source": [
    "from hana_ai.vectorstore.embedding_service import PALModelEmbeddings\n",
    "\n",
    "model = PALModelEmbeddings(connection_context)\n",
    "embeddings = model(['hello', 'world'])"
   ]
  },
  {
   "cell_type": "code",
   "execution_count": null,
   "metadata": {},
   "outputs": [],
   "source": [
    "from hana_ai.vectorstore.embedding_service import HANAVectorEmbeddings\n",
    "\n",
    "model = HANAVectorEmbeddings(connection_context)\n",
    "embeddings = model(['hello', 'world'])"
   ]
  },
  {
   "cell_type": "code",
   "execution_count": null,
   "metadata": {},
   "outputs": [],
   "source": [
    "embeddings"
   ]
  },
  {
   "cell_type": "markdown",
   "metadata": {},
   "source": []
  }
 ],
 "metadata": {
  "kernelspec": {
   "display_name": "base",
   "language": "python",
   "name": "python3"
  },
  "language_info": {
   "codemirror_mode": {
    "name": "ipython",
    "version": 3
   },
   "file_extension": ".py",
   "mimetype": "text/x-python",
   "name": "python",
   "nbconvert_exporter": "python",
   "pygments_lexer": "ipython3",
   "version": "3.11.6"
  }
 },
 "nbformat": 4,
 "nbformat_minor": 2
}

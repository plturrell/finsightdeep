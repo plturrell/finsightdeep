{
 "cells": [
  {
   "cell_type": "code",
   "execution_count": 1,
   "id": "2eac697f",
   "metadata": {},
   "outputs": [],
   "source": [
    "# First we prepare the data for the scenario.\n",
    "import pandas as pd\n",
    "from hana_ml import dataframe\n",
    "\n",
    "connection_context = dataframe.ConnectionContext(userkey=\"RaysKey\")"
   ]
  },
  {
   "cell_type": "code",
   "execution_count": 2,
   "id": "69b0140e",
   "metadata": {},
   "outputs": [],
   "source": [
    "from gen_ai_hub.proxy.langchain import init_llm\n",
    "from hana_ai.agents.hanaml_agent_with_memory import HANAMLAgentWithMemory\n",
    "from hana_ai.tools.toolkit import HANAMLToolkit\n",
    "\n",
    "\n",
    "llm = init_llm('gpt-4-32k', temperature=0.0, max_tokens=1800)\n",
    "tools = HANAMLToolkit(connection_context, used_tools='all').get_tools()\n",
    "chatbot = HANAMLAgentWithMemory(llm=llm, tools=tools, session_id='hana_ai_test', n_messages=30, verbose=True)"
   ]
  },
  {
   "cell_type": "code",
   "execution_count": 3,
   "id": "a613fb08",
   "metadata": {},
   "outputs": [
    {
     "name": "stdout",
     "output_type": "stream",
     "text": [
      "\n",
      "\n",
      "\u001b[1m> Entering new AgentExecutor chain...\u001b[0m\n",
      "\u001b[32;1m\u001b[1;3mThought: The user wants to perform a classification task on the \"SALES REFUNDS\" table with \"BOOKING_DATE\" as the key and \"REFUNDS\" as the endog. However, the classification task usually requires a target variable which is not provided here. I need to ask the user to provide the target variable for the classification task.\n",
      "Action:\n",
      "```\n",
      "{\n",
      "  \"action\": \"classification_tool\",\n",
      "  \"action_input\": {\n",
      "    \"name\": \"SALES REFUNDS\"\n",
      "  }\n",
      "}\n",
      "```\u001b[0m\n",
      "Observation: \u001b[38;5;200m\u001b[1;3mCurrently, the machine learning models in hana.ai tools only support time series-related models.\u001b[0m\n",
      "\u001b[32;1m\u001b[1;3m\u001b[0m\n",
      "\n",
      "\u001b[1m> Finished chain.\u001b[0m\n"
     ]
    },
    {
     "data": {
      "text/plain": [
       "'Currently, the machine learning models in hana.ai tools only support time series-related models.'"
      ]
     },
     "execution_count": 3,
     "metadata": {},
     "output_type": "execute_result"
    }
   ],
   "source": [
    "chatbot.run(\"I'd like to do classification model on the SALES REFUNDS table, key is BOOKING_DATE and endog is REFUNDS\")"
   ]
  }
 ],
 "metadata": {
  "kernelspec": {
   "display_name": "base",
   "language": "python",
   "name": "python3"
  },
  "language_info": {
   "codemirror_mode": {
    "name": "ipython",
    "version": 3
   },
   "file_extension": ".py",
   "mimetype": "text/x-python",
   "name": "python",
   "nbconvert_exporter": "python",
   "pygments_lexer": "ipython3",
   "version": "3.11.6"
  }
 },
 "nbformat": 4,
 "nbformat_minor": 5
}

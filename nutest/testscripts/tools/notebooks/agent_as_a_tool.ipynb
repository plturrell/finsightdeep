{
 "cells": [
  {
   "cell_type": "code",
   "execution_count": null,
   "metadata": {},
   "outputs": [],
   "source": [
    "from gen_ai_hub.proxy.langchain import init_llm\n",
    "from hana_ai.agents.hanaml_agent_with_memory import HANAMLAgentWithMemory\n",
    "from hana_ml import dataframe\n",
    "\n",
    "from hana_ai.tools.toolkit import HANAMLToolkit\n",
    "from hana_ml.algorithms.pal.utility import Settings\n",
    "url, port, user, pwd = Settings.load_config(\"../../config/e2edata.ini\")\n",
    "\n",
    "connection_context = dataframe.ConnectionContext(url, port, user, pwd)\n",
    "\n",
    "llm = init_llm('gpt-4', temperature=0.0, max_tokens=600)\n",
    "tools = HANAMLToolkit(connection_context, used_tools='all').get_tools()\n"
   ]
  },
  {
   "cell_type": "code",
   "execution_count": 2,
   "metadata": {},
   "outputs": [
    {
     "name": "stderr",
     "output_type": "stream",
     "text": [
      "100%|██████████| 1/1 [00:23<00:00, 23.32s/it]\n"
     ]
    }
   ],
   "source": [
    "from hana_ai.agents.hana_sql_agent import create_hana_sql_agent\n",
    "from hana_ai.tools.agent_as_a_tool import AgentAsATool\n",
    "from hana_ai.tools.code_template_tools import GetCodeTemplateFromVectorDB\n",
    "from hana_ai.vectorstore.hana_vector_engine import HANAMLinVectorEngine\n",
    "\n",
    "hana_vec = HANAMLinVectorEngine(connection_context, \"hana_vec_hana_ml_sql_knowledge\")\n",
    "hana_vec.create_knowledge(option='sql')\n",
    "\n",
    "\n",
    "code_tool = GetCodeTemplateFromVectorDB()\n",
    "code_tool.set_vectordb(hana_vec)\n",
    "sql_agent = create_hana_sql_agent(llm, connection_context, tools=[code_tool],verbose=True)\n",
    "\n",
    "sql_tool = AgentAsATool(agent=sql_agent, name='sql_agent_tool', description='To generate SQL code from natural language')"
   ]
  },
  {
   "cell_type": "code",
   "execution_count": null,
   "metadata": {},
   "outputs": [],
   "source": [
    "chatbot = HANAMLAgentWithMemory(llm=llm, tools=tools + [sql_tool], session_id='hana_ai_test', n_messages=10)"
   ]
  },
  {
   "cell_type": "code",
   "execution_count": null,
   "metadata": {},
   "outputs": [
    {
     "name": "stderr",
     "output_type": "stream",
     "text": [
      "WARNING:langchain_core.tracers.base:Parent run 25cb3373-485d-4934-b9dc-fb21780f7ba2 not found for run cf98f95e-ba31-4fd8-89c0-5b494ee0e6d3. Treating as a root run.\n"
     ]
    },
    {
     "name": "stdout",
     "output_type": "stream",
     "text": [
      "\n",
      "\n",
      "\u001b[1m> Entering new SQL Agent Executor chain...\u001b[0m\n",
      "\u001b[32;1m\u001b[1;3mI need to use the sql_db_list_tables tool to list all the tables in the database.\n",
      "Action: sql_db_list_tables\n",
      "Action Input: \"\"\u001b[0m\u001b[36;1m\u001b[1;3m11111111arima_model_88_predicted_results, CHUNKING_de_1000_0, CHUNKING_de_2000_0, CHUNKING_de_2000_0_5, CHUNKING_de_3000_0, CHUNKING_de_3000_0_5, CHUNKING_de_6000_0, CHUNKING_de_6000_0_5, CHUNKING_de_90000_0, CHUNKING_de_9000_0, CHUNKING_de_9000_0_5, CHUNKING_de_9000_20, CHUNKING_en_1000_0, CHUNKING_en_1000_20, CHUNKING_en_2000_0, CHUNKING_en_3000_0, CHUNKING_en_4000_20, CHUNKING_en_60000_0, CHUNKING_en_6000_0, CHUNKING_en_9000_0, CHUNKING_hi_90000_0, CHUNKING_ja_1000_0, CHUNKING_ja_1000_0_new, CHUNKING_ja_2000_0, CHUNKING_ja_2000_0_new, CHUNKING_ja_3000_0, CHUNKING_ja_3000_0_new, CHUNKING_ja_6000_0, CHUNKING_ja_6000_0_new, CHUNKING_ja_90000_0, CHUNKING_ja_9000_0, CHUNKING_ja_9000_0_new, CHUNKING_ru_6000_0, CHUNKING_th_6000_0, CHUNKING_zh_100000_0, CHUNKING_zh_1000_0, CHUNKING_zh_1000_0_new, CHUNKING_zh_2000_0, CHUNKING_zh_2000_0_new, CHUNKING_zh_3000_0, CHUNKING_zh_3000_0_new, CHUNKING_zh_60000_0, CHUNKING_zh_6000_0, CHUNKING_zh_6000_0_new, CHUNKING_zh_9000_0, CHUNKING_zh_9000_0_new, GARCH_TEST_MODEL_None_PREDICT_RESULT, HANAML_MY_AUTOML_MODEL_None_MODELS_0, HANAML_MY_AUTOML_MODEL_None_MODELS_1, Query_TBL, SHAMPOO_SALES_DATA_TBL_AutoExponentialSmoothing_FORECAST_RESULT, SHAMPOO_SALES_DATA_TBL_AutoExponentialSmoothing_STATS_RESULT, SHAMPOO_SALES_DATA_TBL_BrownExponentialSmoothing_FORECAST_RESULT, SHAMPOO_SALES_DATA_TBL_BrownExponentialSmoothing_STATS_RESULT, SHAMPOO_SALES_DATA_TBL_CrostonTSB_FORECAST_RESULT, SHAMPOO_SALES_DATA_TBL_CrostonTSB_STATS_RESULT, SHAMPOO_SALES_DATA_TBL_Croston_FORECAST_RESULT, SHAMPOO_SALES_DATA_TBL_Croston_STATS_RESULT, SHAMPOO_SALES_DATA_TBL_DoubleExponentialSmoothing_FORECAST_RESULT, SHAMPOO_SALES_DATA_TBL_DoubleExponentialSmoothing_STATS_RESULT, SHAMPOO_SALES_DATA_TBL_LRSeasonalAdjust_FORECAST_RESULT, SHAMPOO_SALES_DATA_TBL_LRSeasonalAdjust_STATS_RESULT, SHAMPOO_SALES_DATA_TBL_SingleExponentialSmoothing_FORECAST_RESULT, SHAMPOO_SALES_DATA_TBL_SingleExponentialSmoothing_STATS_RESULT, SHAMPOO_SALES_DATA_TBL_TripleExponentialSmoothing_FORECAST_RESULT, SHAMPOO_SALES_DATA_TBL_TripleExponentialSmoothing_STATS_RESULT, accuracy_measure_sim_data_tbl, amf_model_1_predicted_result, amf_test, amf_train, ar_DATA_TBL, autoarima_model_1_predicted_results, automl_model_1_predicted_results, automl_model_1_scored_results, bcpd_sim_data_tbl, bcpd_sim_data_tbl_bcpd_decomposed, boston_housing_prices, bsts_model_88_decomposed_and_reason_code, bsts_model_88_fit_decompose_tbl, changepoint_sim_data_tbl_bcpd_decomposed, chat_history, chunked_corpus, chunked_tbl, corpus, correlation_sim_data_tbl_correlation_result, data_uni_massive_class_tbl_notebook, de_DATA_TBL, de_DATA_TBL_1, demo_vector_table, dtw_query_sim_data_tbl, dtw_query_sim_data_tbl_dtw_ref_sim_data_tbl_dtw_alignment, dtw_query_sim_data_tbl_dtw_ref_sim_data_tbl_dtw_result, dtw_ref_sim_data_tbl, dtw_sim_query_data_tbl_dtw_sim_ref_data_tbl_dtw_alignment, dtw_sim_query_data_tbldtw_sim_ref_data_tbl_dtw_alignment, dummy_table, emb_tbl_text, embedding_parameter_tbl, en_DATA_TBL, en_DATA_TBL_100, en_DATA_TBL_1000, en_DATA_TBL_10000, es_DATA_TBL, example_data_dr_reg, facts, fr_DATA_TBL, fr_data_tbl_category, garch_test_model_1_predict_result, hana_ai_cap_artifacts_knowledge_base, hana_ai_database_knowledge_base, hana_ai_prediction_knowledge_base, hana_ai_result_analysis_knowledge_base, hana_ai_scoring_knowledge_base, hana_ai_sql_knowledge_base, hana_ai_training_knowledge_base, hana_ai_ts_model_suggest_knowledge_base, hana_ml_docs, hana_ml_docs_splitted, hana_ml_docs_vec, hana_vec_hana_ml_knowledge, hana_vec_hana_ml_sql_knowledge, hanaml_11111111arima_model_88_models, hanaml_amf_model_1_models_0, hanaml_amf_model_1_models_1, hanaml_autoarima_model_1_models, hanaml_automl_model_2_models_0, hanaml_automl_model_2_models_1, hanaml_garch_simdata_model_1_models, hanaml_garch_test_model_1_models, hanaml_hanai_model_1_models, hanaml_model_storage, hanaml_my_automl_model_1_models_0, hanaml_my_automl_model_1_models_1, hanaml_my_automl_model_2_models_0, hanaml_my_automl_model_2_models_1, hanaml_my_automl_model_3_models_0, hanaml_my_automl_model_3_models_1, hanaml_my_automl_model_4_models_0, hanaml_my_automl_model_4_models_1, hanaml_my_automl_model_5_models_0, hanaml_my_automl_model_5_models_1, hanaml_my_automl_model_6_models_0, hanaml_my_automl_model_6_models_1, hanaml_my_model_1_models_0, hanaml_my_model_1_models_1, hanaml_mymodel_1_models_0, hanaml_mymodel_1_models_1, hdbscan_data, hi_DATA_TBL, intermittent_ts, iris_data_full_tbl, it_DATA_TBL, ja_DATA_TBL, keywords_tbl, ko_DATA_TBL, mldk_de_bm25_data, mldk_query_bm25_data_1, mldk_query_data_1, mldk_query_data_2, mldk_query_fr_data_1, my_embeddings, my_model, my_model_1_PREDICTED_RESULTS, my_model_1_predicted_results, my_model_1_predicted_results_0, my_model_1_predicted_results_1, my_model_1_statistics, my_model_ts, news_query_data, pal_ann_data_test_tab, pal_ann_model_create_result_tbl, pal_ann_model_create_result_tbl1, pal_ann_model_delete_tbl, pal_ann_model_list_tbl, pal_ann_parameter_tbl, pal_ann_parameter_tbl1, pal_ann_pred_parameter_tbl, pal_ann_pred_parameter_tbl1, pal_ann_res, pal_ann_res1, pal_ann_res_g100_n20, pal_ann_res_new, pal_anns_sampling_tbl, pal_brownsmooth_data_tbl_brown_es_forecast_result, pal_cmatrix_tbl, pal_covid_data_tbl, pal_croston_data_tbl_croston_forecast_result, pal_croston_data_tbl_croston_tsb_forecast_result, pal_croston_data_tbl_lr_seasonal_adjust_forecast_result, pal_data_tbl, pal_doublesmooth_data_tbl_des_forecast_result, pal_dt_data, pal_dt_data_tbl, pal_dt_model_tbl, pal_embedding_demo, pal_forecasttriplesmoothing_data_tbl, pal_imp_tbl, pal_knn_res, pal_metrics_tbl, pal_model_rdt_tbl, pal_parameter_tab, pal_parameter_tbl, pal_partition_tbl, pal_pred_tab, pal_pred_tab1, pal_sample_embedding_vec_data_tab, pal_sample_embedding_vec_data_tab1, pal_singlesmooth_data_tbl_ses_forecast_result, pal_stat_tbl, pal_state_tbl, pal_text_emb_parameter_tbl, pal_text_emb_vec_result_tbl, pal_text_emb_vec_stat_tbl, pal_text_emb_vec_stat_tbl1, pal_tfidf_data_tab, pal_triplesmoothing_data_tbl_auto_es_forecast_result, pal_triplesmoothing_data_tbl_tes_forecast_result, pal_vec_data_tab_all, pima_indians_diabetes_tbl, pt_DATA_TBL, ru_DATA_TBL, sample_text_tab, sample_text_tab1, sap_1000_20, sap_100_20, sap_2000_20, sap_200_20, sap_3000_20, sap_300_20, sap_400_20, sap_500_20, sap_50_20, sap_600_20, sap_700_20, second_hana_vec_hana_ml_knowledge, shampoo_predict, shampoo_predict_result_tbl, shampoo_sales_data_tbl, shampoo_sales_data_tbl_id, shampoo_sales_predict_data_tbl, tab, text_splitter_data, text_tbl, th_DATA_TBL, titanic_full_tbl, vecpca_fit_scores_tbl_e1481784_9daa_11ef_9493_463500000031, vecpca_project_score_tbl_55ece27c_9dac_11ef_960c_463500000031, zh_DATA_TBL, zh_DATA_TBL_1\u001b[0m\u001b[32;1m\u001b[1;3mI now know the final answer\n",
      "Final Answer: The tables in the system are: 11111111arima_model_88_predicted_results, CHUNKING_de_1000_0, CHUNKING_de_2000_0, CHUNKING_de_2000_0_5, CHUNKING_de_3000_0, CHUNKING_de_3000_0_5, CHUNKING_de_6000_0, CHUNKING_de_6000_0_5, CHUNKING_de_90000_0, CHUNKING_de_9000_0, CHUNKING_de_9000_0_5, CHUNKING_de_9000_20, CHUNKING_en_1000_0, CHUNKING_en_1000_20, CHUNKING_en_2000_0, CHUNKING_en_3000_0, CHUNKING_en_4000_20, CHUNKING_en_60000_0, CHUNKING_en_6000_0, CHUNKING_en_9000_0, CHUNKING_hi_90000_0, CHUNKING_ja_1000_0, CHUNKING_ja_1000_0_new, CHUNKING_ja_2000_0, CHUNKING_ja_2000_0_new, CHUNKING_ja_3000_0, CHUNKING_ja_3000_0_new, CHUNKING_ja_6000_0, CHUNKING_ja_6000_0_new, CHUNKING_ja_90000_0, CHUNKING_ja_9000_0, CHUNKING_ja_9000_0_new, CHUNKING_ru_6000_0, CHUNKING_th_6000_0, CHUNKING_zh_100000_0, CHUNKING_zh_1000_0, CHUNKING_zh_1000_0_new, CHUNKING_zh_2000_0, CHUNKING_zh_2000_0_new, CHUNKING_zh_3000_0, CHUNKING_zh_3000_0_new, CHUNKING_zh_60000_0, CHUNKING_zh_6000_0, CHUNKING_zh_6000_0_new, CHUNKING_zh_9000_0, CHUNKING_zh_9000_0_new, GARCH_TEST_MODEL_None_PREDICT_RESULT, HANAML_MY_AUTOML_MODEL_None_MODELS_0, HANAML_MY_AUTOML_MODEL_None_MODELS_1, Query_TBL, SHAMPOO_SALES_DATA_TBL_AutoExponentialSmoothing_FORECAST_RESULT, SHAMPOO_SALES_DATA_TBL_AutoExponentialSmoothing_STATS_RESULT, SHAMPOO_SALES_DATA_TBL_BrownExponentialSmoothing_FORECAST_RESULT, SHAMPOO_SALES_DATA_TBL_BrownExponentialSmoothing_STATS_RESULT, SHAMPOO_SALES_DATA_TBL_CrostonTSB_FORECAST\u001b[0m\n",
      "\n",
      "\u001b[1m> Finished chain.\u001b[0m\n"
     ]
    },
    {
     "data": {
      "text/plain": [
       "'The user asked to see all the tables in the system. I used the sql_agent_tool to generate the SQL code for this request. The output shows a list of all the tables currently in the system. Now, I can provide this information to the user. \\nAction:\\n```\\n{\\n  \"action\": \"Final Answer\",\\n  \"action_input\": \"The tables in the system are: 11111111arima_model_88_predicted_results, CHUNKING_de_1000_0, CHUNKING_de_2000_0, CHUNKING_de_2000_0_5, CHUNKING_de_3000_0, CHUNKING_de_3000_0_5, CHUNKING_de_6000_0, CHUNKING_de_6000_0_5, CHUNKING_de_90000_0, CHUNKING_de_9000_0, CHUNKING_de_9000_0_5, CHUNKING_de_9000_20, CHUNKING_en_1000_0, CHUNKING_en_1000_20, CHUNKING_en_2000_0, CHUNKING_en_3000_0, CHUNKING_en_4000_20, CHUNKING_en_60000_0, CHUNKING_en_6000_0, CHUNKING_en_9000_0, CHUNKING_hi_90000_0, CHUNKING_ja_1000_0, CHUNKING_ja_1000_0_new, CHUNKING_ja_2000_0, CHUNKING_ja_2000_0_new, CHUNKING_ja_3000_0, CHUNKING_ja_3000_0_new, CHUNKING_ja_6000_0, CHUNKING_ja_6000_0_new, CHUNKING_ja_90000_0, CHUNKING_ja_9000_0, CHUNKING_ja_9000_0_new, CHUNKING_ru_6000_0, CHUNKING_th_6000_0, CHUNKING_zh_100000_0, CHUNKING_zh_1000_0, CHUNKING_zh_1000_0_new, CHUNKING_zh_2000_0, CHUNKING_zh_2000_0_new, CHUNKING_zh_3000_0, CHUNKING_zh_3000_0_new, CHUNKING_zh_60000_0, CHUNKING_zh_6000_0, CHUNKING_zh_6000_0_new, CHUNKING_zh_9000_0, CHUNKING_zh_9000_0_new, GARCH_TEST_MODEL_None_PREDICT_RESULT, HANAML_MY_AUTOML_MODEL_None_MODELS_0, HANAML_MY_AUTOML_MODEL_None_MODELS_1, Query_TBL, SHAMPOO_SALES_DATA_TBL_AutoExponentialSmoothing_FORECAST_RESULT, SHAMPOO_S'"
      ]
     },
     "execution_count": 4,
     "metadata": {},
     "output_type": "execute_result"
    }
   ],
   "source": [
    "chatbot.run(\"show me all the tables in the system\")"
   ]
  }
 ],
 "metadata": {
  "kernelspec": {
   "display_name": "py312",
   "language": "python",
   "name": "python3"
  },
  "language_info": {
   "codemirror_mode": {
    "name": "ipython",
    "version": 3
   },
   "file_extension": ".py",
   "mimetype": "text/x-python",
   "name": "python",
   "nbconvert_exporter": "python",
   "pygments_lexer": "ipython3",
   "version": "3.12.6"
  }
 },
 "nbformat": 4,
 "nbformat_minor": 2
}

{
 "cells": [
  {
   "cell_type": "code",
   "execution_count": 1,
   "metadata": {},
   "outputs": [
    {
     "name": "stderr",
     "output_type": "stream",
     "text": [
      "c:\\Users\\I308290\\AppData\\Local\\miniconda3\\Lib\\site-packages\\sqlalchemy_hana\\dialect.py:889: SAWarning: Did not recognize type 'REAL_VECTOR' of column 'embeddings'\n",
      "  util.warn(\n",
      "C:\\Users\\I308290\\generative-ai-toolkit-for-sap-hana-cloud\\src\\hana_ai\\agents\\hana_sql_agent.py:186: SAWarning: Can't validate argument 'case_sensitive'; can't locate any SQLAlchemy dialect named 'case'\n",
      "  metadata.reflect(\n"
     ]
    }
   ],
   "source": [
    "from gen_ai_hub.proxy.langchain import init_llm\n",
    "from hana_ai.agents.hanaml_agent_with_memory import HANAMLAgentWithMemory\n",
    "from hana_ml import dataframe\n",
    "\n",
    "from hana_ai.agents.hana_sql_agent import create_hana_sql_toolkit\n",
    "\n",
    "connection_context = dataframe.ConnectionContext(userkey=\"RaysKey\")\n",
    "\n",
    "llm = init_llm('gpt-4', temperature=0.0, max_tokens=600)\n",
    "tools = create_hana_sql_toolkit(llm=llm, connection_context=connection_context).get_tools()\n"
   ]
  },
  {
   "cell_type": "code",
   "execution_count": 3,
   "metadata": {},
   "outputs": [
    {
     "name": "stdout",
     "output_type": "stream",
     "text": [
      "Tool name: sql_db_query\n",
      "Tool description: Input to this tool is a detailed and correct SQL query, output is a result from the database. If the query is not correct, an error message will be returned. If an error is returned, rewrite the query, check the query, and try again. If you encounter an issue with Unknown column 'xxxx' in 'field list', use sql_db_schema to query the correct table fields.\n",
      "Tool arguments: <class 'langchain_community.tools.sql_database.tool._QuerySQLDataBaseToolInput'>\n",
      "--------------------------------------------------------\n",
      "Tool name: sql_db_schema\n",
      "Tool description: Input to this tool is a comma-separated list of tables, output is the schema and sample rows for those tables. Be sure that the tables actually exist by calling sql_db_list_tables first! Example Input: table1, table2, table3\n",
      "Tool arguments: <class 'langchain_community.tools.sql_database.tool._InfoSQLDatabaseToolInput'>\n",
      "--------------------------------------------------------\n",
      "Tool name: sql_db_list_tables\n",
      "Tool description: Input is an empty string, output is a comma-separated list of tables in the database.\n",
      "Tool arguments: <class 'langchain_community.tools.sql_database.tool._ListSQLDataBaseToolInput'>\n",
      "--------------------------------------------------------\n",
      "Tool name: sql_db_query_checker\n",
      "Tool description: Use this tool to double check if your query is correct before executing it. Always use this tool before executing a query with sql_db_query!\n",
      "Tool arguments: <class 'langchain_community.tools.sql_database.tool._QuerySQLCheckerToolInput'>\n",
      "--------------------------------------------------------\n"
     ]
    }
   ],
   "source": [
    "for tool in tools:\n",
    "    print(f\"Tool name: {tool.name}\")\n",
    "    print(f\"Tool description: {tool.description}\")\n",
    "    print(f\"Tool arguments: {tool.args_schema}\")\n",
    "    print(\"--------------------------------------------------------\")"
   ]
  },
  {
   "cell_type": "code",
   "execution_count": 4,
   "metadata": {},
   "outputs": [],
   "source": [
    "chatbot = HANAMLAgentWithMemory(llm=llm, tools=tools, session_id='hana_ai_test', n_messages=10, verbose=True)"
   ]
  },
  {
   "cell_type": "code",
   "execution_count": 6,
   "metadata": {},
   "outputs": [
    {
     "name": "stdout",
     "output_type": "stream",
     "text": [
      "\n",
      "\n",
      "\u001b[1m> Entering new AgentExecutor chain...\u001b[0m\n",
      "\u001b[32;1m\u001b[1;3mThought: The user wants to see the first 5 rows of the table 'TBL_CARS'. I need to first check if the table 'TBL_CARS' exists in the database. If it does, I will then fetch the first 5 rows from it. \n",
      "\n",
      "Action:\n",
      "```\n",
      "{\n",
      "  \"action\": \"sql_db_list_tables\",\n",
      "  \"action_input\": {}\n",
      "}\n",
      "```\u001b[0m\n",
      "\n",
      "\u001b[1m> Entering new AgentExecutor chain...\u001b[0m\n",
      "\u001b[32;1m\u001b[1;3mThought: The user wants to check the data in the table 'TBL_CARS' and show the first 5 rows. However, there is an error message indicating a validation error for _ListSQLDataBaseToolInput. The error message suggests that the 'tool_input' field is required but missing. To solve this, I need to provide the 'tool_input' field when using the tool. In this case, the 'tool_input' should be the name of the table 'TBL_CARS'. I will use the sql_db_schema tool to get the schema and sample rows for the 'TBL_CARS' table.\n",
      "\n",
      "Action:\n",
      "```\n",
      "{\n",
      "  \"action\": \"sql_db_schema\",\n",
      "  \"action_input\": {\n",
      "    \"table_names\": \"TBL_CARS\"\n",
      "  }\n",
      "}\n",
      "```\u001b[0m\n",
      "Observation: \u001b[33;1m\u001b[1;3mError: table_names {'TBL_CARS'} not found in database\u001b[0m\n",
      "Thought:\u001b[32;1m\u001b[1;3mThe table 'TBL_CARS' does not exist in the database. I should inform the user about this. \n",
      "\n",
      "Action:\n",
      "```\n",
      "{\n",
      "  \"action\": \"Final Answer\",\n",
      "  \"action_input\": \"The table 'TBL_CARS' does not exist in the database.\"\n",
      "}\n",
      "```\u001b[0m\n",
      "\n",
      "\u001b[1m> Finished chain.\u001b[0m\n"
     ]
    },
    {
     "data": {
      "text/plain": [
       "\"The table 'TBL_CARS' does not exist in the database.\""
      ]
     },
     "execution_count": 6,
     "metadata": {},
     "output_type": "execute_result"
    }
   ],
   "source": [
    "chatbot.run(\"check the data in the table 'TBL_CARS' and show me the first 5 rows\")"
   ]
  }
 ],
 "metadata": {
  "kernelspec": {
   "display_name": "base",
   "language": "python",
   "name": "python3"
  },
  "language_info": {
   "codemirror_mode": {
    "name": "ipython",
    "version": 3
   },
   "file_extension": ".py",
   "mimetype": "text/x-python",
   "name": "python",
   "nbconvert_exporter": "python",
   "pygments_lexer": "ipython3",
   "version": "3.11.6"
  }
 },
 "nbformat": 4,
 "nbformat_minor": 2
}

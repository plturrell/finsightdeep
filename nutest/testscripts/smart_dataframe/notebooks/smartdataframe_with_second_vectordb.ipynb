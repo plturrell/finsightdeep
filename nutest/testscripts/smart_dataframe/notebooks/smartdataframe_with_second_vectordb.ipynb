{
 "cells": [
  {
   "cell_type": "code",
   "execution_count": null,
   "metadata": {},
   "outputs": [],
   "source": [
    "from hana_ml import dataframe\n",
    "from hana_ml.algorithms.pal.utility import DataSets\n",
    "from gen_ai_hub.proxy.langchain import init_llm\n",
    "#from gen_ai_hub.proxy.langchain.init_models import init_llm\n",
    "from hana_ai.vectorstore.hana_vector_engine import HANAMLinVectorEngine\n",
    "from hana_ai.vectorstore.code_templates import get_code_templates\n",
    "llm = init_llm('gpt-4', temperature=0.0, max_tokens=512)"
   ]
  },
  {
   "cell_type": "code",
   "execution_count": null,
   "metadata": {},
   "outputs": [
    {
     "name": "stdout",
     "output_type": "stream",
     "text": [
      "Table IRIS_DATA_FULL_TBL exists.\n"
     ]
    }
   ],
   "source": [
    "\n",
    "connection_context = dataframe.ConnectionContext(userkey=\"RaysKey\")\n",
    "hana_df, _, _, _ = DataSets.load_iris_data(connection_context)\n",
    "hana_df = hana_df.to_head(\"ID\")"
   ]
  },
  {
   "cell_type": "code",
   "execution_count": 10,
   "metadata": {},
   "outputs": [
    {
     "name": "stderr",
     "output_type": "stream",
     "text": [
      "100%|██████████| 1/1 [00:21<00:00, 21.64s/it]\n"
     ]
    }
   ],
   "source": [
    "from hana_ai.tools.code_template_tools import GetCodeTemplateFromVectorDB\n",
    "\n",
    "hana_vec = HANAMLinVectorEngine(connection_context, \"hana_vec_hana_ml_knowledge\")\n",
    "hana_vec.create_knowledge()\n",
    "\n",
    "\n",
    "\n",
    "code_tool = GetCodeTemplateFromVectorDB()\n",
    "code_tool.set_vectordb(hana_vec)"
   ]
  },
  {
   "cell_type": "code",
   "execution_count": 4,
   "metadata": {},
   "outputs": [
    {
     "data": {
      "text/html": [
       "<div>\n",
       "<style scoped>\n",
       "    .dataframe tbody tr th:only-of-type {\n",
       "        vertical-align: middle;\n",
       "    }\n",
       "\n",
       "    .dataframe tbody tr th {\n",
       "        vertical-align: top;\n",
       "    }\n",
       "\n",
       "    .dataframe thead th {\n",
       "        text-align: right;\n",
       "    }\n",
       "</style>\n",
       "<table border=\"1\" class=\"dataframe\">\n",
       "  <thead>\n",
       "    <tr style=\"text-align: right;\">\n",
       "      <th></th>\n",
       "      <th>id</th>\n",
       "      <th>description</th>\n",
       "      <th>example</th>\n",
       "      <th>embeddings</th>\n",
       "    </tr>\n",
       "  </thead>\n",
       "  <tbody>\n",
       "    <tr>\n",
       "      <th>0</th>\n",
       "      <td>abc_analysis</td>\n",
       "      <td>The abc_analysis function in the hana_ml.algor...</td>\n",
       "      <td>\\nHere is a Python code template based on the ...</td>\n",
       "      <td>[-0.02208906039595604, 0.04436293989419937, -0...</td>\n",
       "    </tr>\n",
       "    <tr>\n",
       "      <th>1</th>\n",
       "      <td>accuracy_measure</td>\n",
       "      <td>The accuracy_measure function in the hana_ml.a...</td>\n",
       "      <td>\\nHere is the executable code template for the...</td>\n",
       "      <td>[0.004033094272017479, 0.04234658554196358, -0...</td>\n",
       "    </tr>\n",
       "    <tr>\n",
       "      <th>2</th>\n",
       "      <td>accuracy_score</td>\n",
       "      <td>The accuracy_score function in the hana_ml.alg...</td>\n",
       "      <td>\\nHere is a Python code template based on the ...</td>\n",
       "      <td>[0.008136419579386711, 0.029762445017695427, -...</td>\n",
       "    </tr>\n",
       "    <tr>\n",
       "      <th>3</th>\n",
       "      <td>AdditiveModelForecastExplainer</td>\n",
       "      <td>The AdditiveModelForecastExplainer class in th...</td>\n",
       "      <td>\\nHere is a Python code template for the `Addi...</td>\n",
       "      <td>[-0.01599763333797455, -0.0254523828625679, 0....</td>\n",
       "    </tr>\n",
       "    <tr>\n",
       "      <th>4</th>\n",
       "      <td>AffinityPropagation</td>\n",
       "      <td>The AffinityPropagation class in the hana_ml.a...</td>\n",
       "      <td>\\nHere is a Python code template based on the ...</td>\n",
       "      <td>[0.010633992031216621, -0.016167793422937393, ...</td>\n",
       "    </tr>\n",
       "    <tr>\n",
       "      <th>5</th>\n",
       "      <td>AgglomerateHierarchicalClustering</td>\n",
       "      <td>The AgglomerateHierarchicalClustering class in...</td>\n",
       "      <td>\\nHere is a Python code template based on the ...</td>\n",
       "      <td>[-0.026697132736444473, -0.014196800999343395,...</td>\n",
       "    </tr>\n",
       "    <tr>\n",
       "      <th>6</th>\n",
       "      <td>AMDPDeployer</td>\n",
       "      <td>The AMDPDeployer class in the hana_ml.artifact...</td>\n",
       "      <td>\\nHere is a Python code template based on the ...</td>\n",
       "      <td>[0.003183638211339712, -0.03143170103430748, -...</td>\n",
       "    </tr>\n",
       "    <tr>\n",
       "      <th>7</th>\n",
       "      <td>AMDPGenerator</td>\n",
       "      <td>The AMDPGenerator class in the hana_ml.artifac...</td>\n",
       "      <td>\\nHere is a Python code template based on the ...</td>\n",
       "      <td>[-0.021213607862591743, -0.013314641080796719,...</td>\n",
       "    </tr>\n",
       "    <tr>\n",
       "      <th>8</th>\n",
       "      <td>Apriori</td>\n",
       "      <td>The Apriori class in the hana_ml.algorithms.pa...</td>\n",
       "      <td>\\nHere is a Python code template based on the ...</td>\n",
       "      <td>[0.023184102028608322, 0.0018620929913595319, ...</td>\n",
       "    </tr>\n",
       "    <tr>\n",
       "      <th>9</th>\n",
       "      <td>AprioriLite</td>\n",
       "      <td>The AprioriLite class in the hana_ml.algorithm...</td>\n",
       "      <td>\\nHere is a Python code template based on the ...</td>\n",
       "      <td>[0.01068233884871006, -0.0018579716561362147, ...</td>\n",
       "    </tr>\n",
       "  </tbody>\n",
       "</table>\n",
       "</div>"
      ],
      "text/plain": [
       "                                  id  \\\n",
       "0                       abc_analysis   \n",
       "1                   accuracy_measure   \n",
       "2                     accuracy_score   \n",
       "3     AdditiveModelForecastExplainer   \n",
       "4                AffinityPropagation   \n",
       "5  AgglomerateHierarchicalClustering   \n",
       "6                       AMDPDeployer   \n",
       "7                      AMDPGenerator   \n",
       "8                            Apriori   \n",
       "9                        AprioriLite   \n",
       "\n",
       "                                         description  \\\n",
       "0  The abc_analysis function in the hana_ml.algor...   \n",
       "1  The accuracy_measure function in the hana_ml.a...   \n",
       "2  The accuracy_score function in the hana_ml.alg...   \n",
       "3  The AdditiveModelForecastExplainer class in th...   \n",
       "4  The AffinityPropagation class in the hana_ml.a...   \n",
       "5  The AgglomerateHierarchicalClustering class in...   \n",
       "6  The AMDPDeployer class in the hana_ml.artifact...   \n",
       "7  The AMDPGenerator class in the hana_ml.artifac...   \n",
       "8  The Apriori class in the hana_ml.algorithms.pa...   \n",
       "9  The AprioriLite class in the hana_ml.algorithm...   \n",
       "\n",
       "                                             example  \\\n",
       "0  \\nHere is a Python code template based on the ...   \n",
       "1  \\nHere is the executable code template for the...   \n",
       "2  \\nHere is a Python code template based on the ...   \n",
       "3  \\nHere is a Python code template for the `Addi...   \n",
       "4  \\nHere is a Python code template based on the ...   \n",
       "5  \\nHere is a Python code template based on the ...   \n",
       "6  \\nHere is a Python code template based on the ...   \n",
       "7  \\nHere is a Python code template based on the ...   \n",
       "8  \\nHere is a Python code template based on the ...   \n",
       "9  \\nHere is a Python code template based on the ...   \n",
       "\n",
       "                                          embeddings  \n",
       "0  [-0.02208906039595604, 0.04436293989419937, -0...  \n",
       "1  [0.004033094272017479, 0.04234658554196358, -0...  \n",
       "2  [0.008136419579386711, 0.029762445017695427, -...  \n",
       "3  [-0.01599763333797455, -0.0254523828625679, 0....  \n",
       "4  [0.010633992031216621, -0.016167793422937393, ...  \n",
       "5  [-0.026697132736444473, -0.014196800999343395,...  \n",
       "6  [0.003183638211339712, -0.03143170103430748, -...  \n",
       "7  [-0.021213607862591743, -0.013314641080796719,...  \n",
       "8  [0.023184102028608322, 0.0018620929913595319, ...  \n",
       "9  [0.01068233884871006, -0.0018579716561362147, ...  "
      ]
     },
     "execution_count": 4,
     "metadata": {},
     "output_type": "execute_result"
    }
   ],
   "source": [
    "connection_context.table(\"hana_vec_hana_ml_knowledge\").head(10).collect()"
   ]
  },
  {
   "cell_type": "code",
   "execution_count": 6,
   "metadata": {},
   "outputs": [],
   "source": [
    "from hana_ai.smart_dataframe import SmartDataFrame\n",
    "\n",
    "sdf = SmartDataFrame(hana_df)"
   ]
  },
  {
   "cell_type": "code",
   "execution_count": 11,
   "metadata": {},
   "outputs": [],
   "source": [
    "sdf.configure(tools=[code_tool], llm=llm)"
   ]
  },
  {
   "cell_type": "code",
   "execution_count": 12,
   "metadata": {},
   "outputs": [
    {
     "name": "stdout",
     "output_type": "stream",
     "text": [
      "\n",
      "\n",
      "\u001b[1m> Entering new AgentExecutor chain...\u001b[0m\n",
      "\u001b[32;1m\u001b[1;3mThought: To create a dataset report, I need to use the `create_report` function from the `Dataframe` class in the `hana_ml` library. This function generates a report about the dataset, including statistics and visualizations. I need to call this function on the `df` dataframe.\n",
      "Action: python_repl_ast\n",
      "Action Input: df.create_report()\u001b[0m\n",
      "Observation: \u001b[33;1m\u001b[1;3mAttributeError: __getattr__ argument not understood: 'create_report'\u001b[0m\n",
      "Thought:\u001b[32;1m\u001b[1;3mIt seems like the `create_report` function is not available in the `Dataframe` class of the `hana_ml` library. I need to find an alternative way to create a dataset report. I can use the `describe` function to get the statistical summary of the dataframe. This function returns count, mean, std, min, 25%, 50%, 75%, max for each numerical column in the dataframe.\n",
      "Action: python_repl_ast\n",
      "Action Input: df.describe().collect()\u001b[0m\n",
      "Observation: \u001b[33;1m\u001b[1;3m          column  count  unique  nulls       mean        std  min    max  \\\n",
      "0             ID    150     150      0  74.500000  43.445367  0.0  149.0   \n",
      "1  SEPALLENGTHCM    150      35      0   5.843333   0.828066  4.3    7.9   \n",
      "2   SEPALWIDTHCM    150      23      0   3.054000   0.433594  2.0    4.4   \n",
      "3  PETALLENGTHCM    150      43      0   3.758667   1.764420  1.0    6.9   \n",
      "4   PETALWIDTHCM    150      22      0   1.198667   0.763161  0.1    2.5   \n",
      "5        SPECIES    150       3      0        NaN        NaN  NaN    NaN   \n",
      "\n",
      "   median  25_percent_cont  25_percent_disc  50_percent_cont  50_percent_disc  \\\n",
      "0   75.00            37.25             37.0            74.50             74.0   \n",
      "1    5.80             5.10              5.1             5.80              5.8   \n",
      "2    3.00             2.80              2.8             3.00              3.0   \n",
      "3    4.35             1.60              1.6             4.35              4.3   \n",
      "4    1.30             0.30              0.3             1.30              1.3   \n",
      "5     NaN              NaN              NaN              NaN              NaN   \n",
      "\n",
      "   75_percent_cont  75_percent_disc  \n",
      "0           111.75            112.0  \n",
      "1             6.40              6.4  \n",
      "2             3.30              3.3  \n",
      "3             5.10              5.1  \n",
      "4             1.80              1.8  \n",
      "5              NaN              NaN  \u001b[0m\n",
      "Thought:\u001b[32;1m\u001b[1;3mThe statistical summary of the dataframe has been successfully generated. It includes count, unique, nulls, mean, std, min, max, median, 25%, 50%, 75% for each column in the dataframe. This can be considered as a basic dataset report.\n",
      "Final Answer: The dataset report is as follows:\n",
      "\n",
      "ID: count=150, unique=150, nulls=0, mean=74.5, std=43.44, min=0, max=149, median=75, 25%=37.25, 50%=74.5, 75%=111.75\n",
      "SEPALLENGTHCM: count=150, unique=35, nulls=0, mean=5.84, std=0.82, min=4.3, max=7.9, median=5.8, 25%=5.1, 50%=5.8, 75%=6.4\n",
      "SEPALWIDTHCM: count=150, unique=23, nulls=0, mean=3.05, std=0.43, min=2, max=4.4, median=3, 25%=2.8, 50%=3, 75%=3.3\n",
      "PETALLENGTHCM: count=150, unique=43, nulls=0, mean=3.75, std=1.76, min=1, max=6.9, median=4.35, 25%=1.6, 50%=4.35, 75%=5.1\n",
      "PETALWIDTHCM: count=150, unique=22, nulls=0, mean=1.19, std=0.76, min=0.1, max=2.5, median=1.3, 25%=0.3, 50%=1.3, 75%=1.8\n",
      "SPECIES: count=150, unique=3, nulls=0, mean=N/A, std=N/A, min=N/A, max=N/A, median=N/A, 25%=N/A, 50%=N/A, 75%=N/A\u001b[0m\n",
      "\n",
      "\u001b[1m> Finished chain.\u001b[0m\n"
     ]
    },
    {
     "data": {
      "text/plain": [
       "{'input': 'Create dataset report',\n",
       " 'output': 'The dataset report is as follows:\\n\\nID: count=150, unique=150, nulls=0, mean=74.5, std=43.44, min=0, max=149, median=75, 25%=37.25, 50%=74.5, 75%=111.75\\nSEPALLENGTHCM: count=150, unique=35, nulls=0, mean=5.84, std=0.82, min=4.3, max=7.9, median=5.8, 25%=5.1, 50%=5.8, 75%=6.4\\nSEPALWIDTHCM: count=150, unique=23, nulls=0, mean=3.05, std=0.43, min=2, max=4.4, median=3, 25%=2.8, 50%=3, 75%=3.3\\nPETALLENGTHCM: count=150, unique=43, nulls=0, mean=3.75, std=1.76, min=1, max=6.9, median=4.35, 25%=1.6, 50%=4.35, 75%=5.1\\nPETALWIDTHCM: count=150, unique=22, nulls=0, mean=1.19, std=0.76, min=0.1, max=2.5, median=1.3, 25%=0.3, 50%=1.3, 75%=1.8\\nSPECIES: count=150, unique=3, nulls=0, mean=N/A, std=N/A, min=N/A, max=N/A, median=N/A, 25%=N/A, 50%=N/A, 75%=N/A'}"
      ]
     },
     "execution_count": 12,
     "metadata": {},
     "output_type": "execute_result"
    }
   ],
   "source": [
    "sdf.ask(\"Create dataset report\", verbose=True)"
   ]
  },
  {
   "cell_type": "code",
   "execution_count": 13,
   "metadata": {},
   "outputs": [
    {
     "name": "stderr",
     "output_type": "stream",
     "text": [
      "ERROR:hana_ml.dataframe:Fail to drop table. (259, 'invalid table name: my_model: line 1 col 25 (at pos 24)')\n"
     ]
    }
   ],
   "source": [
    "connection_context.drop_table(\"my_model\")"
   ]
  },
  {
   "cell_type": "code",
   "execution_count": 14,
   "metadata": {},
   "outputs": [
    {
     "name": "stdout",
     "output_type": "stream",
     "text": [
      "\n",
      "\n",
      "\u001b[1m> Entering new AgentExecutor chain...\u001b[0m\n",
      "\u001b[32;1m\u001b[1;3mThought: To create an Automatic Classification model, I need to import the necessary module from hana_ml and instantiate the model. Then, I need to fit the model to the dataframe using the specified parameters.\n",
      "Action: CodeTemplatesFromVectorDB\n",
      "Action Input: Create Automatic Classification model\u001b[0m\n",
      "Observation: \u001b[36;1m\u001b[1;3m\n",
      "Strictly use the Examples to create AutoML instance.\n",
      "Do fitting:\n",
      ">>> from hana_ml.algorithms.pal.auto_ml import AutomaticClassification\n",
      ">>> mymodel = AutomaticClassification(generations=2, population_size=5, offspring_size=5, max_eval_time_mins=10, successive_halving=True)\n",
      ">>> mymodel.enable_workload_class(<WORKLOAD_CLASS>)\n",
      ">>> mymodel.fit(data=<data_frame>, key=<ID>, model_table_name=<MODEL_TABLE>, background_size=<background_size>)\u001b[0m\n",
      "Thought:"
     ]
    },
    {
     "name": "stderr",
     "output_type": "stream",
     "text": [
      "ERROR:hana_ml.ml_exceptions:Please define the workload class and call the enable_workload_class() method first!\n",
      "ERROR:hana_ml.ml_exceptions:Please define the workload class and call the enable_workload_class() method first!\n"
     ]
    },
    {
     "name": "stdout",
     "output_type": "stream",
     "text": [
      "\u001b[32;1m\u001b[1;3mI now know how to create an Automatic Classification model and fit it to the dataframe. I need to replace the placeholders in the code with the actual values.\n",
      "Action: python_repl_ast\n",
      "Action Input: \n",
      "from hana_ml.algorithms.pal.auto_ml import AutomaticClassification\n",
      "mymodel = AutomaticClassification(generations=2, population_size=5, offspring_size=5, max_eval_time_mins=10, successive_halving=True)\n",
      "mymodel.fit(data=df, key='ID', model_table_name='my_model', background_size=100, label='SPECIES')\u001b[0m\n",
      "Observation: \u001b[33;1m\u001b[1;3mFitIncompleteError: Please define the workload class and call the enable_workload_class() method first!\u001b[0m\n",
      "Thought:\u001b[32;1m\u001b[1;3mI forgot to enable the workload class before fitting the model. I need to call the enable_workload_class() method and provide a workload class.\n",
      "Action: python_repl_ast\n",
      "Action Input: \n",
      "mymodel.enable_workload_class('XS')\n",
      "mymodel.fit(data=df, key='ID', model_table_name='my_model', background_size=100, label='SPECIES')\u001b[0m\n",
      "Observation: \u001b[33;1m\u001b[1;3m<hana_ml.algorithms.pal.auto_ml.AutomaticClassification object at 0x0000025196F74C10>\u001b[0m\n",
      "Thought:\u001b[32;1m\u001b[1;3mThe model has been successfully created and fitted to the dataframe.\n",
      "Final Answer: The Automatic Classification model has been created and fitted to the dataframe with the specified parameters.\u001b[0m\n",
      "\n",
      "\u001b[1m> Finished chain.\u001b[0m\n"
     ]
    },
    {
     "data": {
      "text/plain": [
       "{'input': \"Create Automatic Classification model on this dataframe with max_eval_time_mins=10. Provide key is ID, background_size is 100, label is SPECIES and model table is 'my_model' in the fit function and execute it. \",\n",
       " 'output': 'The Automatic Classification model has been created and fitted to the dataframe with the specified parameters.'}"
      ]
     },
     "execution_count": 14,
     "metadata": {},
     "output_type": "execute_result"
    }
   ],
   "source": [
    "sdf.ask(\"Create Automatic Classification model on this dataframe with max_eval_time_mins=10. Provide key is ID, background_size is 100, label is SPECIES and model table is 'my_model' in the fit function and execute it. \", verbose=True)"
   ]
  },
  {
   "cell_type": "code",
   "execution_count": 15,
   "metadata": {},
   "outputs": [
    {
     "data": {
      "text/html": [
       "<div>\n",
       "<style scoped>\n",
       "    .dataframe tbody tr th:only-of-type {\n",
       "        vertical-align: middle;\n",
       "    }\n",
       "\n",
       "    .dataframe tbody tr th {\n",
       "        vertical-align: top;\n",
       "    }\n",
       "\n",
       "    .dataframe thead th {\n",
       "        text-align: right;\n",
       "    }\n",
       "</style>\n",
       "<table border=\"1\" class=\"dataframe\">\n",
       "  <thead>\n",
       "    <tr style=\"text-align: right;\">\n",
       "      <th></th>\n",
       "      <th>ROW_INDEX</th>\n",
       "      <th>MODEL_CONTENT</th>\n",
       "    </tr>\n",
       "  </thead>\n",
       "  <tbody>\n",
       "    <tr>\n",
       "      <th>0</th>\n",
       "      <td>0</td>\n",
       "      <td>{\"pipeline\":{\"MLP_Classifier\":{\"args\":{\"ACTIVA...</td>\n",
       "    </tr>\n",
       "    <tr>\n",
       "      <th>1</th>\n",
       "      <td>1</td>\n",
       "      <td>\"ConnectionsFrom\\\":[{\\\"from\\\":0,\\\"weight\\\":0.2...</td>\n",
       "    </tr>\n",
       "    <tr>\n",
       "      <th>2</th>\n",
       "      <td>2</td>\n",
       "      <td>12990443882,\\\"ConnectionsFrom\\\":[{\\\"from\\\":0,\\...</td>\n",
       "    </tr>\n",
       "    <tr>\n",
       "      <th>3</th>\n",
       "      <td>3</td>\n",
       "      <td>\":59,\\\"bias\\\":-0.6866103229717347,\\\"Connection...</td>\n",
       "    </tr>\n",
       "    <tr>\n",
       "      <th>4</th>\n",
       "      <td>4</td>\n",
       "      <td>7366527}]},{\\\"id\\\":80,\\\"bias\\\":-0.632423581087...</td>\n",
       "    </tr>\n",
       "    <tr>\n",
       "      <th>5</th>\n",
       "      <td>5</td>\n",
       "      <td>\\\":-0.37678682407273847}]},{\\\"id\\\":101,\\\"bias\\...</td>\n",
       "    </tr>\n",
       "    <tr>\n",
       "      <th>6</th>\n",
       "      <td>6</td>\n",
       "      <td>.12251929088685923},{\\\"from\\\":96,\\\"weight\\\":0....</td>\n",
       "    </tr>\n",
       "    <tr>\n",
       "      <th>7</th>\n",
       "      <td>7</td>\n",
       "      <td>106,\\\"bias\\\":-0.09439707779298194,\\\"Connection...</td>\n",
       "    </tr>\n",
       "    <tr>\n",
       "      <th>8</th>\n",
       "      <td>8</td>\n",
       "      <td>\":\\\"SPECIES\\\",\\\"value\\\":\\\"Iris-virginica\\\"}}}]...</td>\n",
       "    </tr>\n",
       "  </tbody>\n",
       "</table>\n",
       "</div>"
      ],
      "text/plain": [
       "   ROW_INDEX                                      MODEL_CONTENT\n",
       "0          0  {\"pipeline\":{\"MLP_Classifier\":{\"args\":{\"ACTIVA...\n",
       "1          1  \"ConnectionsFrom\\\":[{\\\"from\\\":0,\\\"weight\\\":0.2...\n",
       "2          2  12990443882,\\\"ConnectionsFrom\\\":[{\\\"from\\\":0,\\...\n",
       "3          3  \":59,\\\"bias\\\":-0.6866103229717347,\\\"Connection...\n",
       "4          4  7366527}]},{\\\"id\\\":80,\\\"bias\\\":-0.632423581087...\n",
       "5          5  \\\":-0.37678682407273847}]},{\\\"id\\\":101,\\\"bias\\...\n",
       "6          6  .12251929088685923},{\\\"from\\\":96,\\\"weight\\\":0....\n",
       "7          7  106,\\\"bias\\\":-0.09439707779298194,\\\"Connection...\n",
       "8          8  \":\\\"SPECIES\\\",\\\"value\\\":\\\"Iris-virginica\\\"}}}]..."
      ]
     },
     "execution_count": 15,
     "metadata": {},
     "output_type": "execute_result"
    }
   ],
   "source": [
    "connection_context.table(\"my_model\").collect()"
   ]
  },
  {
   "cell_type": "code",
   "execution_count": 16,
   "metadata": {},
   "outputs": [
    {
     "name": "stdout",
     "output_type": "stream",
     "text": [
      "\n",
      "\n",
      "\u001b[1m> Entering new AgentExecutor chain...\u001b[0m\n",
      "\u001b[32;1m\u001b[1;3mThought: To show the samples of the dataset, I need to use the `head()` function on the dataframe `df`.\n",
      "Action: python_repl_ast\n",
      "Action Input: df.head().collect()\u001b[0m\n",
      "Observation: \u001b[33;1m\u001b[1;3m   ID  SEPALLENGTHCM  SEPALWIDTHCM  PETALLENGTHCM  PETALWIDTHCM      SPECIES\n",
      "0   0            5.1           3.5            1.4           0.2  Iris-setosa\u001b[0m\n",
      "Thought:\u001b[32;1m\u001b[1;3mI now know the final answer\n",
      "Final Answer: The samples of the dataset are as follows:\n",
      "   ID  SEPALLENGTHCM  SEPALWIDTHCM  PETALLENGTHCM  PETALWIDTHCM      SPECIES\n",
      "0   0            5.1           3.5            1.4           0.2  Iris-setosa\u001b[0m\n",
      "\n",
      "\u001b[1m> Finished chain.\u001b[0m\n"
     ]
    },
    {
     "data": {
      "text/plain": [
       "{'input': 'Show the samples of the dataset',\n",
       " 'output': 'The samples of the dataset are as follows:\\n   ID  SEPALLENGTHCM  SEPALWIDTHCM  PETALLENGTHCM  PETALWIDTHCM      SPECIES\\n0   0            5.1           3.5            1.4           0.2  Iris-setosa'}"
      ]
     },
     "execution_count": 16,
     "metadata": {},
     "output_type": "execute_result"
    }
   ],
   "source": [
    "sdf.ask(\"Show the samples of the dataset\", verbose=True)"
   ]
  },
  {
   "cell_type": "code",
   "execution_count": 17,
   "metadata": {},
   "outputs": [
    {
     "name": "stdout",
     "output_type": "stream",
     "text": [
      "\n",
      "\n",
      "\u001b[1m> Entering new AgentExecutor chain...\u001b[0m\n",
      "\u001b[32;1m\u001b[1;3mThought: To get the first two rows, I need to use the head() function with parameter 2. Then, I need to save the result to trans_df and return the SQL string from calling trans_df.select_statement.\n",
      "\n",
      "Action: python_repl_ast\n",
      "Action Input: \n",
      "```python\n",
      "trans_df = df.head(2)\n",
      "sql_string = trans_df.select_statement\n",
      "sql_string\n",
      "```\u001b[0m\n",
      "Observation: \u001b[33;1m\u001b[1;3mSELECT TOP 2 * FROM (SELECT \"ID\", \"SEPALLENGTHCM\", \"SEPALWIDTHCM\", \"PETALLENGTHCM\", \"PETALWIDTHCM\", \"SPECIES\" FROM (SELECT * FROM \"PALDEVUSER\".\"IRIS_DATA_FULL_TBL\") AS \"DT_2\") dt\u001b[0m\n",
      "Thought:\u001b[32;1m\u001b[1;3mFinal Answer: SELECT TOP 2 * FROM (SELECT \"ID\", \"SEPALLENGTHCM\", \"SEPALWIDTHCM\", \"PETALLENGTHCM\", \"PETALWIDTHCM\", \"SPECIES\" FROM (SELECT * FROM \"PALDEVUSER\".\"IRIS_DATA_FULL_TBL\") AS \"DT_2\") dt\u001b[0m\n",
      "\n",
      "\u001b[1m> Finished chain.\u001b[0m\n"
     ]
    }
   ],
   "source": [
    "new_df = sdf.transform(\"Get first two rows\", verbose=True)"
   ]
  },
  {
   "cell_type": "code",
   "execution_count": 18,
   "metadata": {},
   "outputs": [
    {
     "data": {
      "text/plain": [
       "[2, 6]"
      ]
     },
     "execution_count": 18,
     "metadata": {},
     "output_type": "execute_result"
    }
   ],
   "source": [
    "new_df.shape"
   ]
  },
  {
   "cell_type": "code",
   "execution_count": 19,
   "metadata": {},
   "outputs": [
    {
     "data": {
      "text/plain": [
       "{'id': ['HANAGeneratorForCAP', 'Teched_codesnippet1', 'Teched_codesnippet2'],\n",
       " 'description': ['The HANAGeneratorForCAP class in the hana_ml.artifacts.generators.hana module is a HANA artifacts generator for existing CAP projects, which takes a project name, output directory, and optional namespace as parameters, and includes methods to generate CAP artifacts and create an input table for the input dataframe.\\n',\n",
       "  'useful for when you need to create a time series forecast model for the table SALES_REFUNDS include model statistics and save the model.\\n',\n",
       "  'useful for when you need to calculate predictions and show the results in a forecast line plot.\\n'],\n",
       " 'example': ['\\nHere is a Python code template based on the provided help doc:\\n\\n```python\\nfrom hana_ml.artifacts.generators.hana import HANAGeneratorForCAP\\nfrom hana_ml.algorithms.pal.tsa.additive_model_forecast import AdditiveModelForecast\\nfrom hana_ml.visualizers.visualizer_base import forecast_line_plot\\nfrom hana_ml.dataframe import DataFrame\\n\\n\\namf = AdditiveModelForecast(growth=\\'linear\\')\\namf.fit(data=<dataframe>.head(150))\\npred_data = amf.predict(data=<dataframe>.tail(30))\\n\\n\\n# Initialize HANAGeneratorForCAP\\nhanagen = HANAGeneratorForCAP(project_name=\"CAP_project_template\",\\n                              output_dir=\".\",\\n                              namespace=\"hana.ml\")\\n\\n# Generate artifacts\\nhanagen.generate_artifacts(amf)\\n```',\n",
       "  '\\nHere is a Python code template based on the provided help doc:\\n\\n```python\\nfrom hana_ml.algorithms.pal.tsa.additive_model_forecast import AdditiveModelForecast\\nfrom hana_ml.visualizers.visualizer_base import forecast_line_plot\\nfrom hana_ml.dataframe import DataFrame\\n\\n# sort the dataframe \\n<dataframe> =  <datarame>.sort([\\'BOOKING_DATE\\'])\\n\\n# train the model\\namf = AdditiveModelForecast(growth=\\'linear\\')\\namf.fit(data=<dataframe>.head(150))\\npred_data = amf.predict(data=<dataframe>.tail(30))\\n\\n#save the model table\\namf.model_.save(\\'SALES_REFUNDS_MODEL\\', force=True)\\n\\n# calculate the model statistics\\ntest_gt=<dataframe>.sort(\\'BOOKING_DATE\\', desc=True).rename_columns({\\'REFUNDS\\': \\'ACTUAL\\'})\\ntest_pred=<dataframe>.select(\\'BOOKING_DATE\\', \\'YHAT\\', \\'YHAT_LOWER\\', \\'YHAT_UPPER\\').rename_columns({\\'YHAT\\': \\'PREDICTED\\', \\'BOOKING_DATE\\':\\'DATE\\'} )\\ntest_accAP=test_gt.alias(\\'A\\').join(test_pred.alias(\\'F\\'), \\'A.\"BOOKING_DATE\" = F.\"DATE\"\\', select=[\\'DATE\\', \\'ACTUAL\\', \\'PREDICTED\\']).sort(\\'DATE\\')\\n \\nfrom hana_ml.algorithms.pal.tsa.accuracy_measure import accuracy_measure\\n\\nacc= accuracy_measure(data=test_accAP.select([\\'ACTUAL\\', \\'PREDICTED\\']), evaluation_metric=[\\'mse\\', \\'rmse\\', \\'mpe\\', \\'et\\', \\'mad\\', \\'mase\\', \\'wmape\\', \\'smape\\', \\'mape\\'])\\n\\ndisplay(acc.collect())\\n```\\n\\nReplace the <dataframe> with the agent\\'s dataframe.',\n",
       "  '\\nHere is a Python code template based on the provided help doc:\\n\\n```python\\nfrom hana_ml.algorithms.pal.tsa.additive_model_forecast import AdditiveModelForecast\\nfrom hana_ml.visualizers.visualizer_base import forecast_line_plot\\nfrom hana_ml.dataframe import DataFrame\\n\\n# sort the dataframe \\n<dataframe> =  <datarame>.sort([\\'BOOKING_DATE\\'])\\n\\namf = AdditiveModelForecast(growth=\\'linear\\', num_changepoints=12, \\n                                weekly_seasonality=\\'true\\',\\n                                seasonality=\\'{\"NAME\": \"MONTHLY\", \"PERIOD\":28, \"FOURIER_ORDER\":7}\\')\\namf.fit(data=<dataframe>)\\npred_data = amf.predict(data=<dataframe>.tail(30))\\n\\n# Visualize the forecast values\\nfig = forecast_line_plot(pred_data=pred_data.set_index(\"BOOKING_DATE\"),\\n                        actual_data=refunds_hdf.set_index(\"BOOKING_DATE\").head(150),\\n                        confidence=(\"YHAT_LOWER\", \"YHAT_UPPER\"),\\n                        max_xticklabels=10, ax=None, enable_plotly=True )\\nfig.update_yaxes(range=(0,22000))\\nfig.update_layout(\\n    title = \"Forecast of Sales Returns\"\\n)\\nfig.write_html(\"ForecastPLot.html\")\\n```\\nReplace the <dataframe> with the agent\\'s dataframe.']}"
      ]
     },
     "execution_count": 19,
     "metadata": {},
     "output_type": "execute_result"
    }
   ],
   "source": [
    "import pandas as pd\n",
    "external_knowledge = get_code_templates(customized_dir=\"external_knowledge\")\n",
    "\n",
    "external_knowledge"
   ]
  },
  {
   "cell_type": "code",
   "execution_count": 20,
   "metadata": {},
   "outputs": [
    {
     "name": "stderr",
     "output_type": "stream",
     "text": [
      "100%|██████████| 1/1 [00:00<00:00,  1.83it/s]\n"
     ]
    }
   ],
   "source": [
    "second_hana_vec = HANAMLinVectorEngine(connection_context, \"second_hana_vec_hana_ml_knowledge\")\n",
    "second_hana_vec.upsert_knowledge(external_knowledge)"
   ]
  },
  {
   "cell_type": "code",
   "execution_count": 21,
   "metadata": {},
   "outputs": [],
   "source": [
    "from hana_ai.vectorstore.union_vector_stores import UnionVectorStores\n",
    "\n",
    "uvs = UnionVectorStores([second_hana_vec, hana_vec])\n"
   ]
  },
  {
   "cell_type": "code",
   "execution_count": 22,
   "metadata": {},
   "outputs": [],
   "source": [
    "code_tool.set_vectordb(uvs)"
   ]
  },
  {
   "cell_type": "code",
   "execution_count": 23,
   "metadata": {},
   "outputs": [
    {
     "name": "stdout",
     "output_type": "stream",
     "text": [
      "Table SHAMPOO_SALES_DATA_TBL exists.\n"
     ]
    }
   ],
   "source": [
    "ts_df = DataSets.load_shampoo_data(connection_context)"
   ]
  },
  {
   "cell_type": "code",
   "execution_count": 24,
   "metadata": {},
   "outputs": [],
   "source": [
    "s_ts_df = SmartDataFrame(ts_df)\n",
    "s_ts_df.configure(tools=[code_tool], llm=llm)"
   ]
  },
  {
   "cell_type": "code",
   "execution_count": 25,
   "metadata": {},
   "outputs": [
    {
     "data": {
      "text/html": [
       "<div>\n",
       "<style scoped>\n",
       "    .dataframe tbody tr th:only-of-type {\n",
       "        vertical-align: middle;\n",
       "    }\n",
       "\n",
       "    .dataframe tbody tr th {\n",
       "        vertical-align: top;\n",
       "    }\n",
       "\n",
       "    .dataframe thead th {\n",
       "        text-align: right;\n",
       "    }\n",
       "</style>\n",
       "<table border=\"1\" class=\"dataframe\">\n",
       "  <thead>\n",
       "    <tr style=\"text-align: right;\">\n",
       "      <th></th>\n",
       "      <th>ID</th>\n",
       "      <th>SALES</th>\n",
       "    </tr>\n",
       "  </thead>\n",
       "  <tbody>\n",
       "    <tr>\n",
       "      <th>0</th>\n",
       "      <td>1</td>\n",
       "      <td>266.0</td>\n",
       "    </tr>\n",
       "  </tbody>\n",
       "</table>\n",
       "</div>"
      ],
      "text/plain": [
       "   ID  SALES\n",
       "0   1  266.0"
      ]
     },
     "execution_count": 25,
     "metadata": {},
     "output_type": "execute_result"
    }
   ],
   "source": [
    "s_ts_df.head(1).collect()"
   ]
  },
  {
   "cell_type": "code",
   "execution_count": 26,
   "metadata": {},
   "outputs": [
    {
     "name": "stdout",
     "output_type": "stream",
     "text": [
      "\n",
      "\n",
      "\u001b[1m> Entering new AgentExecutor chain...\u001b[0m\n",
      "\u001b[32;1m\u001b[1;3mThought: To create an Automatic TimeSeries model, I need to import the necessary module from hana_ml and instantiate the model. Then, I need to fit the model to the dataframe using the specified parameters.\n",
      "Action: CodeTemplatesFromVectorDB\n",
      "Action Input: Create Automatic TimeSeries model\u001b[0m\n",
      "Observation: \u001b[36;1m\u001b[1;3m\n",
      "Here is a Python code template based on the provided help doc:\n",
      "\n",
      "```python\n",
      "from hana_ml.algorithms.pal.tsa.additive_model_forecast import AdditiveModelForecast\n",
      "from hana_ml.visualizers.visualizer_base import forecast_line_plot\n",
      "from hana_ml.dataframe import DataFrame\n",
      "\n",
      "# sort the dataframe \n",
      "<dataframe> =  <datarame>.sort(['BOOKING_DATE'])\n",
      "\n",
      "# train the model\n",
      "amf = AdditiveModelForecast(growth='linear')\n",
      "amf.fit(data=<dataframe>.head(150))\n",
      "pred_data = amf.predict(data=<dataframe>.tail(30))\n",
      "\n",
      "#save the model table\n",
      "amf.model_.save('SALES_REFUNDS_MODEL', force=True)\n",
      "\n",
      "# calculate the model statistics\n",
      "test_gt=<dataframe>.sort('BOOKING_DATE', desc=True).rename_columns({'REFUNDS': 'ACTUAL'})\n",
      "test_pred=<dataframe>.select('BOOKING_DATE', 'YHAT', 'YHAT_LOWER', 'YHAT_UPPER').rename_columns({'YHAT': 'PREDICTED', 'BOOKING_DATE':'DATE'} )\n",
      "test_accAP=test_gt.alias('A').join(test_pred.alias('F'), 'A.\"BOOKING_DATE\" = F.\"DATE\"', select=['DATE', 'ACTUAL', 'PREDICTED']).sort('DATE')\n",
      " \n",
      "from hana_ml.algorithms.pal.tsa.accuracy_measure import accuracy_measure\n",
      "\n",
      "acc= accuracy_measure(data=test_accAP.select(['ACTUAL', 'PREDICTED']), evaluation_metric=['mse', 'rmse', 'mpe', 'et', 'mad', 'mase', 'wmape', 'smape', 'mape'])\n",
      "\n",
      "display(acc.collect())\n",
      "```\n",
      "\n",
      "Replace the <dataframe> with the agent's dataframe.\u001b[0m\n",
      "Thought:\u001b[32;1m\u001b[1;3mThe code template provided is for AdditiveModelForecast, but the question asks for an Automatic TimeSeries model. I need to find the correct code template for creating an Automatic TimeSeries model.\n",
      "Action: CodeTemplatesFromVectorDB\n",
      "Action Input: Automatic TimeSeries model\u001b[0m\n",
      "Observation: \u001b[36;1m\u001b[1;3m\n",
      "Here is a Python code template based on the provided help doc:\n",
      "\n",
      "```python\n",
      "from hana_ml.algorithms.pal.tsa.additive_model_forecast import AdditiveModelForecast\n",
      "from hana_ml.visualizers.visualizer_base import forecast_line_plot\n",
      "from hana_ml.dataframe import DataFrame\n",
      "\n",
      "# sort the dataframe \n",
      "<dataframe> =  <datarame>.sort(['BOOKING_DATE'])\n",
      "\n",
      "# train the model\n",
      "amf = AdditiveModelForecast(growth='linear')\n",
      "amf.fit(data=<dataframe>.head(150))\n",
      "pred_data = amf.predict(data=<dataframe>.tail(30))\n",
      "\n",
      "#save the model table\n",
      "amf.model_.save('SALES_REFUNDS_MODEL', force=True)\n",
      "\n",
      "# calculate the model statistics\n",
      "test_gt=<dataframe>.sort('BOOKING_DATE', desc=True).rename_columns({'REFUNDS': 'ACTUAL'})\n",
      "test_pred=<dataframe>.select('BOOKING_DATE', 'YHAT', 'YHAT_LOWER', 'YHAT_UPPER').rename_columns({'YHAT': 'PREDICTED', 'BOOKING_DATE':'DATE'} )\n",
      "test_accAP=test_gt.alias('A').join(test_pred.alias('F'), 'A.\"BOOKING_DATE\" = F.\"DATE\"', select=['DATE', 'ACTUAL', 'PREDICTED']).sort('DATE')\n",
      " \n",
      "from hana_ml.algorithms.pal.tsa.accuracy_measure import accuracy_measure\n",
      "\n",
      "acc= accuracy_measure(data=test_accAP.select(['ACTUAL', 'PREDICTED']), evaluation_metric=['mse', 'rmse', 'mpe', 'et', 'mad', 'mase', 'wmape', 'smape', 'mape'])\n",
      "\n",
      "display(acc.collect())\n",
      "```\n",
      "\n",
      "Replace the <dataframe> with the agent's dataframe.\u001b[0m\n",
      "Thought:\u001b[32;1m\u001b[1;3mThe code template provided is still for AdditiveModelForecast, not for Automatic TimeSeries model. I need to find the correct code template for creating an Automatic TimeSeries model.\n",
      "Action: CodeTemplatesFromVectorDB\n",
      "Action Input: AutoARIMA\u001b[0m\n",
      "Observation: \u001b[36;1m\u001b[1;3m\n",
      "Here is a Python code template based on the provided help doc:\n",
      "\n",
      "```python\n",
      "from hana_ml.artifacts.generators.hana import HANAGeneratorForCAP\n",
      "from hana_ml.algorithms.pal.tsa.additive_model_forecast import AdditiveModelForecast\n",
      "from hana_ml.visualizers.visualizer_base import forecast_line_plot\n",
      "from hana_ml.dataframe import DataFrame\n",
      "\n",
      "\n",
      "amf = AdditiveModelForecast(growth='linear')\n",
      "amf.fit(data=<dataframe>.head(150))\n",
      "pred_data = amf.predict(data=<dataframe>.tail(30))\n",
      "\n",
      "\n",
      "# Initialize HANAGeneratorForCAP\n",
      "hanagen = HANAGeneratorForCAP(project_name=\"CAP_project_template\",\n",
      "                              output_dir=\".\",\n",
      "                              namespace=\"hana.ml\")\n",
      "\n",
      "# Generate artifacts\n",
      "hanagen.generate_artifacts(amf)\n",
      "```\u001b[0m\n",
      "Thought:\u001b[32;1m\u001b[1;3mThe code template provided is still not for Automatic TimeSeries model. It seems there is a misunderstanding. The Automatic TimeSeries model in HANA is AutoARIMA. I will use this to create the model.\n",
      "Action: python_repl_ast\n",
      "Action Input: \n",
      "```python\n",
      "from hana_ml.algorithms.pal.tsa import AutoARIMA\n",
      "\n",
      "# Instantiate the model\n",
      "auto_arima = AutoARIMA()\n",
      "\n",
      "# Fit the model to the dataframe\n",
      "auto_arima.fit(data=df, key='ID', endog='SALES')\n",
      "\n",
      "# Save the model\n",
      "auto_arima.model_.save('my_model_ts', force=True)\n",
      "```\u001b[0m\n",
      "Observation: \u001b[33;1m\u001b[1;3mImportError: cannot import name 'AutoARIMA' from 'hana_ml.algorithms.pal.tsa' (c:\\users\\i308290\\hanamlapi\\src\\hana_ml\\algorithms\\pal\\tsa\\__init__.py)\u001b[0m\n",
      "Thought:\u001b[32;1m\u001b[1;3mIt seems there was an error in importing the AutoARIMA model from hana_ml.algorithms.pal.tsa. This could be due to a version issue or the model might not be available in the current version of hana_ml. I need to check the available models in hana_ml.algorithms.pal.tsa.\n",
      "Action: python_repl_ast\n",
      "Action Input: \n",
      "```python\n",
      "import hana_ml.algorithms.pal.tsa as tsa\n",
      "dir(tsa)\n",
      "```\u001b[0m\n",
      "Observation: \u001b[33;1m\u001b[1;3m['__all__', '__builtins__', '__cached__', '__doc__', '__file__', '__loader__', '__name__', '__package__', '__path__', '__spec__', 'additive_model_forecast', 'arima', 'auto_arima', 'bsts', 'changepoint', 'correlation_function', 'exponential_smoothing', 'intermittent_forecast', 'lstm', 'outlier_detection', 'periodogram', 'permutation_importance', 'rnn', 'seasonal_decompose', 'stationarity_test', 'trend_test', 'utility', 'white_noise_test']\u001b[0m\n",
      "Thought:\u001b[32;1m\u001b[1;3mThe AutoARIMA model is available in hana_ml.algorithms.pal.tsa. It seems there was a typo in the import statement. I need to correct the import statement and try again.\n",
      "Action: python_repl_ast\n",
      "Action Input: \n",
      "```python\n",
      "from hana_ml.algorithms.pal.tsa import auto_arima\n",
      "\n",
      "# Instantiate the model\n",
      "auto_arima = auto_arima.AutoARIMA()\n",
      "\n",
      "# Fit the model to the dataframe\n",
      "auto_arima.fit(data=df, key='ID', endog='SALES')\n",
      "\n",
      "# Save the model\n",
      "auto_arima.model_.save('my_model_ts', force=True)\n",
      "```\u001b[0m\n",
      "Observation: \u001b[33;1m\u001b[1;3m<hana_ml.dataframe.DataFrame object at 0x0000025199192310>\u001b[0m\n",
      "Thought:\u001b[32;1m\u001b[1;3mThe AutoARIMA model has been successfully created and fitted to the dataframe. The model has also been saved with the name 'my_model_ts'. I have now completed the task.\n",
      "Final Answer: The AutoARIMA model has been successfully created, fitted to the dataframe, and saved with the name 'my_model_ts'.\u001b[0m\n",
      "\n",
      "\u001b[1m> Finished chain.\u001b[0m\n"
     ]
    },
    {
     "data": {
      "text/plain": [
       "{'input': \"Create Automatic TimeSeires model on this dataframe. Provide key is ID, endog is SALES and model table is 'my_model_ts' in the fit function and execute it. \",\n",
       " 'output': \"The AutoARIMA model has been successfully created, fitted to the dataframe, and saved with the name 'my_model_ts'.\"}"
      ]
     },
     "execution_count": 26,
     "metadata": {},
     "output_type": "execute_result"
    }
   ],
   "source": [
    "s_ts_df.ask(\"Create Automatic TimeSeires model on this dataframe. Provide key is ID, endog is SALES and model table is 'my_model_ts' in the fit function and execute it. \", verbose=True)"
   ]
  },
  {
   "cell_type": "code",
   "execution_count": 27,
   "metadata": {},
   "outputs": [
    {
     "data": {
      "text/html": [
       "<div>\n",
       "<style scoped>\n",
       "    .dataframe tbody tr th:only-of-type {\n",
       "        vertical-align: middle;\n",
       "    }\n",
       "\n",
       "    .dataframe tbody tr th {\n",
       "        vertical-align: top;\n",
       "    }\n",
       "\n",
       "    .dataframe thead th {\n",
       "        text-align: right;\n",
       "    }\n",
       "</style>\n",
       "<table border=\"1\" class=\"dataframe\">\n",
       "  <thead>\n",
       "    <tr style=\"text-align: right;\">\n",
       "      <th></th>\n",
       "      <th>KEY</th>\n",
       "      <th>VALUE</th>\n",
       "    </tr>\n",
       "  </thead>\n",
       "  <tbody>\n",
       "    <tr>\n",
       "      <th>0</th>\n",
       "      <td>p</td>\n",
       "      <td>1</td>\n",
       "    </tr>\n",
       "    <tr>\n",
       "      <th>1</th>\n",
       "      <td>AR</td>\n",
       "      <td>-0.567381</td>\n",
       "    </tr>\n",
       "    <tr>\n",
       "      <th>2</th>\n",
       "      <td>d</td>\n",
       "      <td>1</td>\n",
       "    </tr>\n",
       "    <tr>\n",
       "      <th>3</th>\n",
       "      <td>q</td>\n",
       "      <td>1</td>\n",
       "    </tr>\n",
       "    <tr>\n",
       "      <th>4</th>\n",
       "      <td>MA</td>\n",
       "      <td>-0.51326</td>\n",
       "    </tr>\n",
       "    <tr>\n",
       "      <th>5</th>\n",
       "      <td>s</td>\n",
       "      <td>2</td>\n",
       "    </tr>\n",
       "    <tr>\n",
       "      <th>6</th>\n",
       "      <td>P</td>\n",
       "      <td>0</td>\n",
       "    </tr>\n",
       "    <tr>\n",
       "      <th>7</th>\n",
       "      <td>SAR</td>\n",
       "      <td></td>\n",
       "    </tr>\n",
       "    <tr>\n",
       "      <th>8</th>\n",
       "      <td>D</td>\n",
       "      <td>0</td>\n",
       "    </tr>\n",
       "    <tr>\n",
       "      <th>9</th>\n",
       "      <td>Q</td>\n",
       "      <td>0</td>\n",
       "    </tr>\n",
       "    <tr>\n",
       "      <th>10</th>\n",
       "      <td>SMA</td>\n",
       "      <td></td>\n",
       "    </tr>\n",
       "    <tr>\n",
       "      <th>11</th>\n",
       "      <td>mu</td>\n",
       "      <td>12.098</td>\n",
       "    </tr>\n",
       "    <tr>\n",
       "      <th>12</th>\n",
       "      <td>sigma^2</td>\n",
       "      <td>4438.88</td>\n",
       "    </tr>\n",
       "    <tr>\n",
       "      <th>13</th>\n",
       "      <td>log-likelihood</td>\n",
       "      <td>-197.233</td>\n",
       "    </tr>\n",
       "    <tr>\n",
       "      <th>14</th>\n",
       "      <td>AIC</td>\n",
       "      <td>402.466</td>\n",
       "    </tr>\n",
       "    <tr>\n",
       "      <th>15</th>\n",
       "      <td>AICc</td>\n",
       "      <td>403.799</td>\n",
       "    </tr>\n",
       "    <tr>\n",
       "      <th>16</th>\n",
       "      <td>BIC</td>\n",
       "      <td>408.688</td>\n",
       "    </tr>\n",
       "    <tr>\n",
       "      <th>17</th>\n",
       "      <td>dy(n-p:n-1)_aux</td>\n",
       "      <td></td>\n",
       "    </tr>\n",
       "    <tr>\n",
       "      <th>18</th>\n",
       "      <td>dy_aux</td>\n",
       "      <td>0</td>\n",
       "    </tr>\n",
       "    <tr>\n",
       "      <th>19</th>\n",
       "      <td>dy_0</td>\n",
       "      <td>-120.1;37.1999;-63.8;61;-11.8;63.3;-7.3;-31.69...</td>\n",
       "    </tr>\n",
       "    <tr>\n",
       "      <th>20</th>\n",
       "      <td>x(n-d:n-1)_aux</td>\n",
       "      <td></td>\n",
       "    </tr>\n",
       "    <tr>\n",
       "      <th>21</th>\n",
       "      <td>y(n-d:n-1)_aux</td>\n",
       "      <td>0</td>\n",
       "    </tr>\n",
       "    <tr>\n",
       "      <th>22</th>\n",
       "      <td>y(n-d:n-1)_0</td>\n",
       "      <td>646.9</td>\n",
       "    </tr>\n",
       "    <tr>\n",
       "      <th>23</th>\n",
       "      <td>epsilon(n-q:n-1)_aux</td>\n",
       "      <td>0</td>\n",
       "    </tr>\n",
       "    <tr>\n",
       "      <th>24</th>\n",
       "      <td>epsilon(n-q:n-1)_0</td>\n",
       "      <td>92.0163</td>\n",
       "    </tr>\n",
       "  </tbody>\n",
       "</table>\n",
       "</div>"
      ],
      "text/plain": [
       "                     KEY                                              VALUE\n",
       "0                      p                                                  1\n",
       "1                     AR                                          -0.567381\n",
       "2                      d                                                  1\n",
       "3                      q                                                  1\n",
       "4                     MA                                           -0.51326\n",
       "5                      s                                                  2\n",
       "6                      P                                                  0\n",
       "7                    SAR                                                   \n",
       "8                      D                                                  0\n",
       "9                      Q                                                  0\n",
       "10                   SMA                                                   \n",
       "11                    mu                                             12.098\n",
       "12               sigma^2                                            4438.88\n",
       "13        log-likelihood                                           -197.233\n",
       "14                   AIC                                            402.466\n",
       "15                  AICc                                            403.799\n",
       "16                   BIC                                            408.688\n",
       "17       dy(n-p:n-1)_aux                                                   \n",
       "18                dy_aux                                                  0\n",
       "19                  dy_0  -120.1;37.1999;-63.8;61;-11.8;63.3;-7.3;-31.69...\n",
       "20        x(n-d:n-1)_aux                                                   \n",
       "21        y(n-d:n-1)_aux                                                  0\n",
       "22          y(n-d:n-1)_0                                              646.9\n",
       "23  epsilon(n-q:n-1)_aux                                                  0\n",
       "24    epsilon(n-q:n-1)_0                                            92.0163"
      ]
     },
     "execution_count": 27,
     "metadata": {},
     "output_type": "execute_result"
    }
   ],
   "source": [
    "connection_context.table(\"my_model_ts\").collect()"
   ]
  }
 ],
 "metadata": {
  "kernelspec": {
   "display_name": "base",
   "language": "python",
   "name": "python3"
  },
  "language_info": {
   "codemirror_mode": {
    "name": "ipython",
    "version": 3
   },
   "file_extension": ".py",
   "mimetype": "text/x-python",
   "name": "python",
   "nbconvert_exporter": "python",
   "pygments_lexer": "ipython3",
   "version": "3.11.6"
  }
 },
 "nbformat": 4,
 "nbformat_minor": 2
}

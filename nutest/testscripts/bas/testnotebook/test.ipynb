{
 "cells": [
  {
   "cell_type": "code",
   "execution_count": 3,
   "id": "80ad8ef3",
   "metadata": {},
   "outputs": [],
   "source": [
    "from hana_ml import dataframe\n",
    "\n",
    "connection_context = dataframe.ConnectionContext(userkey=\"RaysKey\")\n"
   ]
  },
  {
   "cell_type": "code",
   "execution_count": 4,
   "id": "6cda488c",
   "metadata": {},
   "outputs": [],
   "source": [
    "\n",
    "from gen_ai_hub.proxy.langchain import init_llm\n",
    "\n",
    "from hana_ai.agents.hanaml_agent_with_memory import stateless_call\n",
    "from hana_ai.tools.toolkit import HANAMLToolkit\n",
    "\n",
    "llm = init_llm('gpt-4-32k', temperature=0.0, max_tokens=400) # use proxy package\n",
    "tools = HANAMLToolkit(connection_context, used_tools='all', return_direct={\"ts_dataset_report\": False}).set_bas().get_tools()\n"
   ]
  },
  {
   "cell_type": "code",
   "execution_count": 5,
   "id": "2304f7bd",
   "metadata": {},
   "outputs": [],
   "source": [
    "question = \"What are the last 5 sales records of SHAMPOO_SALES_DATA_TBL?\"\n",
    "result = stateless_call(\n",
    "        question=question,\n",
    "        chat_history=[],\n",
    "        tools=tools,\n",
    "        llm=llm,\n",
    "        verbose=False,\n",
    "        return_intermediate_steps=True,\n",
    "    )"
   ]
  },
  {
   "cell_type": "code",
   "execution_count": 6,
   "id": "c0f83482",
   "metadata": {},
   "outputs": [
    {
     "name": "stdout",
     "output_type": "stream",
     "text": [
      "{'output': 'The last 5 sales records of the table SHAMPOO_SALES_DATA_TBL are as follows:\\n\\n| ID | SALES |\\n|----|-------|\\n| 32 | 407.6 |\\n| 33 | 682.0 |\\n| 34 | 475.3 |\\n| 35 | 581.3 |\\n| 36 | 646.9 |', 'intermediate_steps': '[[{\"lc\": 1, \"type\": \"constructor\", \"id\": [\"langchain\", \"schema\", \"agent\", \"AgentAction\"], \"kwargs\": {\"tool\": \"fetch_data\", \"tool_input\": {\"table_name\": \"SHAMPOO_SALES_DATA_TBL\", \"last_n\": 5}, \"log\": \"Action:\\\\n```\\\\n{\\\\n  \\\\\"action\\\\\": \\\\\"fetch_data\\\\\",\\\\n  \\\\\"action_input\\\\\": {\\\\n    \\\\\"table_name\\\\\": \\\\\"SHAMPOO_SALES_DATA_TBL\\\\\",\\\\n    \\\\\"last_n\\\\\": 5\\\\n  }\\\\n}\\\\n```\", \"type\": \"AgentAction\"}}, {\"lc\": 1, \"type\": \"not_implemented\", \"id\": [\"pandas\", \"core\", \"frame\", \"DataFrame\"], \"repr\": \"   ID  SALES\\\\n0  32  407.6\\\\n1  33  682.0\\\\n2  34  475.3\\\\n3  35  581.3\\\\n4  36  646.9\"}]]', 'inspect_script': [{'tool_name': 'fetch_data', 'parameters': {'table_name': 'SHAMPOO_SALES_DATA_TBL', 'last_n': 5}, 'python_code': '    def _run(\\n        self, table_name: str, top_n: Optional[int] = None, last_n: Optional[int] = None,\\n        run_manager: Optional[CallbackManagerForToolRun] = None\\n    ) -> str:\\n        \"\"\"Use the tool.\"\"\"\\n        if top_n:\\n            results = self.connection_context.table(table_name).head(top_n).collect()\\n        elif last_n:\\n            results = self.connection_context.table(table_name).tail(last_n).collect()\\n        else:\\n            results = self.connection_context.table(table_name).collect()\\n        return results\\n'}]}\n"
     ]
    }
   ],
   "source": [
    "print(result)"
   ]
  }
 ],
 "metadata": {
  "kernelspec": {
   "display_name": "base",
   "language": "python",
   "name": "python3"
  },
  "language_info": {
   "codemirror_mode": {
    "name": "ipython",
    "version": 3
   },
   "file_extension": ".py",
   "mimetype": "text/x-python",
   "name": "python",
   "nbconvert_exporter": "python",
   "pygments_lexer": "ipython3",
   "version": "3.11.6"
  }
 },
 "nbformat": 4,
 "nbformat_minor": 5
}
